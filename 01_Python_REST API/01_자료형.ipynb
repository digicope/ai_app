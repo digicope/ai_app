{
 "cells": [
  {
   "cell_type": "markdown",
   "id": "5bdf60c7-fff9-4a26-aabe-a6a02580ce6d",
   "metadata": {},
   "source": [
    "### 01_자료형  \n",
    "- 숫자형/문자열\n",
    "- 리스트/튜플/사전/집합"
   ]
  },
  {
   "cell_type": "code",
   "execution_count": 2,
   "id": "930e8ef4-765d-4b49-8cf1-f0c1e0166c24",
   "metadata": {},
   "outputs": [
    {
     "data": {
      "text/plain": [
       "'3.12.7 | packaged by Anaconda, Inc. | (main, Oct  4 2024, 13:17:27) [MSC v.1929 64 bit (AMD64)]'"
      ]
     },
     "execution_count": 2,
     "metadata": {},
     "output_type": "execute_result"
    }
   ],
   "source": [
    "# a = 10\n",
    "# b = 20\n",
    "# c = a + b\n",
    "# print(c)\n",
    "# 파이썬 버전\n",
    "import sys\n",
    "sys.version"
   ]
  },
  {
   "cell_type": "markdown",
   "id": "d9b7bb32-2c90-48c0-9c72-c4a56f0f23ba",
   "metadata": {},
   "source": [
    "#### [1] 숫자형 : 정수형,실수형"
   ]
  },
  {
   "cell_type": "markdown",
   "id": "e4cf6622-1775-4c9c-a879-5ebf0b8f9096",
   "metadata": {},
   "source": [
    "- 정수형 : int형"
   ]
  },
  {
   "cell_type": "code",
   "execution_count": 5,
   "id": "bedb5dec-6a1f-4cd8-8a38-a8252dd5021b",
   "metadata": {},
   "outputs": [
    {
     "name": "stdout",
     "output_type": "stream",
     "text": [
      "12345\n",
      "100\n",
      "<class 'int'>\n"
     ]
    }
   ],
   "source": [
    "a = 12345\n",
    "b = 100\n",
    "c = a + b\n",
    "print(a)\n",
    "print(b)\n",
    "print(type(a))"
   ]
  },
  {
   "cell_type": "markdown",
   "id": "49e5dd6b-3e0b-4853-9e05-992947339bd9",
   "metadata": {},
   "source": [
    "- 실수형 : float형"
   ]
  },
  {
   "cell_type": "code",
   "execution_count": 7,
   "id": "a64cfd4d-9859-4aa1-a377-dd9721a649c9",
   "metadata": {},
   "outputs": [
    {
     "name": "stdout",
     "output_type": "stream",
     "text": [
      "10.54\n",
      "<class 'float'>\n",
      "12345.0\n",
      "<class 'float'>\n"
     ]
    }
   ],
   "source": [
    "f = 10.54\n",
    "print(f)\n",
    "print(type(f))\n",
    "\n",
    "b = float(a)\n",
    "print(b)\n",
    "print(type(b))"
   ]
  },
  {
   "cell_type": "code",
   "execution_count": 8,
   "id": "030b76b5-a31e-46f6-a299-af00e71ea424",
   "metadata": {},
   "outputs": [
    {
     "name": "stdout",
     "output_type": "stream",
     "text": [
      "2.0\n"
     ]
    }
   ],
   "source": [
    "a = 10\n",
    "b = 5\n",
    "c = a + b  # 정수 (+,-,*)\n",
    "d =  a / b # 실수\n",
    "print(d)   "
   ]
  },
  {
   "cell_type": "markdown",
   "id": "a49d9246-08cf-484a-86b1-c72b931993d8",
   "metadata": {},
   "source": [
    "#### 객체 :  파이썬의 모든 변수,  데이터 형은 객체로 관리된다"
   ]
  },
  {
   "cell_type": "code",
   "execution_count": 10,
   "id": "669a836d-feb9-4c96-8fc0-777e17a6d3bb",
   "metadata": {},
   "outputs": [
    {
     "name": "stdout",
     "output_type": "stream",
     "text": [
      "0x7ff8b42a2d58\n",
      "0x7ff8b42a2e98\n",
      "0x7ff8b42a2d58\n",
      "0x7ff8b42a2e98\n"
     ]
    }
   ],
   "source": [
    "a = 30   # int 클래스의 인스턴스 객체를 생성\n",
    "print(hex(id(a)))\n",
    "b = 40   # int 클래스의 인스턴스 객체를 생성\n",
    "print(hex(id(b)))\n",
    "b = a\n",
    "print(hex(id(b)))\n",
    "\n",
    "b = 40\n",
    "print(hex(id(b)))"
   ]
  },
  {
   "cell_type": "markdown",
   "id": "4e5e4df9-ee2f-41b6-9022-fb782724d1d9",
   "metadata": {},
   "source": [
    "#### [2] 문자열 : 불변형(immutable), 시퀀스형\n",
    "- 문자열은 요소를 수정할수 없는 자료형, 순서를 갖는 자료형 "
   ]
  },
  {
   "cell_type": "code",
   "execution_count": 12,
   "id": "b4177c74-6cd1-4587-9c9e-1bbb950fbdc4",
   "metadata": {},
   "outputs": [
    {
     "name": "stdout",
     "output_type": "stream",
     "text": [
      "Hello Python\n",
      "<class 'str'>\n",
      "Good Bye\n",
      "<class 'str'>\n",
      "this is a 'double' quotation\n",
      "\n",
      "Desc : This is a test code!\n",
      "Date : 2025-02-03\n",
      "(C) copyright\n",
      "\n"
     ]
    }
   ],
   "source": [
    "str1 = \"Hello Python\"\n",
    "print(str1)\n",
    "print(type(str1))\n",
    "\n",
    "str2 = 'Good Bye'\n",
    "print(str2)\n",
    "print(type(str2))\n",
    "\n",
    "str3 = \"this is a 'double' quotation\"\n",
    "print(str3)\n",
    "\n",
    "# \\ 는 줄바꿈\n",
    "str4 = \\\n",
    "'''\n",
    "Desc : This is a test code!\n",
    "Date : 2025-02-03\n",
    "(C) copyright\n",
    "'''\n",
    "print(str4)"
   ]
  },
  {
   "cell_type": "markdown",
   "id": "88972ed8-4981-496b-8cc0-8c8f5263c503",
   "metadata": {},
   "source": [
    "#### [3] 리스트(list) : 가변형(mutable), 시퀀스, 가장 유용한 자료형, [ ] :대괄호, 중복 허용"
   ]
  },
  {
   "cell_type": "code",
   "execution_count": 14,
   "id": "5beff585-f363-49ab-b651-98c311d9792e",
   "metadata": {},
   "outputs": [
    {
     "name": "stdout",
     "output_type": "stream",
     "text": [
      "[1, 2, 3, 4, 5, 6]\n",
      "<class 'list'>\n",
      "['a', 'hello', 1, 3.5, [1, 2, 3, 4, 5, 6], 3.5, 1]\n"
     ]
    }
   ],
   "source": [
    "a = [1,2,3,4,5,6]\n",
    "print(a)\n",
    "print(type(a))\n",
    "\n",
    "b = ['a','hello',1,3.5,a,3.5,1]\n",
    "print(b)"
   ]
  },
  {
   "cell_type": "code",
   "execution_count": 15,
   "id": "908820e0-6220-404b-b318-43e5e18550b0",
   "metadata": {},
   "outputs": [
    {
     "name": "stdout",
     "output_type": "stream",
     "text": [
      "1 2 3 6 2 1\n",
      "[10, 2, 3, 4, 5, 6]\n"
     ]
    }
   ],
   "source": [
    "# 인덱싱\n",
    "a = [1,2,3,4,5,6]\n",
    "\n",
    "print(a[0],a[1],a[2],a[-1],a[True],a[False])\n",
    "\n",
    "a[0] = 10\n",
    "print(a)"
   ]
  },
  {
   "cell_type": "code",
   "execution_count": 16,
   "id": "c0241823-d7f5-44df-9b73-4fa7724b8fd8",
   "metadata": {},
   "outputs": [
    {
     "name": "stdout",
     "output_type": "stream",
     "text": [
      "[1, 2, 3, 4, 5]\n",
      "[2, 3, 4]\n",
      "[1, 2, 3, 4, 5, 6]\n",
      "[1, 2, 3, 4, 5]\n",
      "[1, 4]\n",
      "[6, 5, 4, 3, 2, 1]\n"
     ]
    }
   ],
   "source": [
    "# 슬라이싱 : a[start:end+1:step]\n",
    "a = [1,2,3,4,5,6]\n",
    "print(a[:5])\n",
    "print(a[1:4])\n",
    "print(a[:])\n",
    "print(a[:-1])\n",
    "\n",
    "print(a[::3])\n",
    "print(a[::-1])  # 요소의 순서를 거꾸로 변경한다"
   ]
  },
  {
   "cell_type": "code",
   "execution_count": 17,
   "id": "7bc73621-66d1-45f7-8dc9-e92b81ca3dfa",
   "metadata": {},
   "outputs": [
    {
     "name": "stdout",
     "output_type": "stream",
     "text": [
      "[0, 1, 2, 3, 4, 5, 6, 7, 8, 9]\n",
      "[0, 1, 2, 3, 4, 5, 6, 7, 8, 9]\n",
      "[0, 1, 2, 3, 4, 5, 6, 7, 8, 9]\n",
      "[-10, -8, -6, -4, -2, 0, 2, 4, 6, 8, 10]\n"
     ]
    }
   ],
   "source": [
    "# range(start,end + 1, step)\n",
    "print(list(range(0,10,1)))\n",
    "print(list(range(10)))\n",
    "print(list(range(0,10)))\n",
    "\n",
    "print(list(range(-10,11,2)))"
   ]
  },
  {
   "cell_type": "markdown",
   "id": "cc91f629-abfd-45f9-a334-1a4dce9c00a4",
   "metadata": {},
   "source": [
    "#### [4] 튜플(tuple) : 불변형(immutable), 시퀀스형, ( ):소괄호 사용"
   ]
  },
  {
   "cell_type": "code",
   "execution_count": 19,
   "id": "b175c43a-3fd1-48c1-bc3c-bccb8c196796",
   "metadata": {},
   "outputs": [
    {
     "name": "stdout",
     "output_type": "stream",
     "text": [
      "(1, 2, 3, 4, 5)\n",
      "<class 'tuple'>\n"
     ]
    }
   ],
   "source": [
    "a = (1,2,3,4,5)\n",
    "print(a)\n",
    "print(type(a))"
   ]
  },
  {
   "cell_type": "code",
   "execution_count": 20,
   "id": "b8da262a-86e4-4a2d-b00f-02dd11a00898",
   "metadata": {},
   "outputs": [
    {
     "name": "stdout",
     "output_type": "stream",
     "text": [
      "1 2 3 5 2 1\n"
     ]
    }
   ],
   "source": [
    "# 인덱싱\n",
    "a = (1,2,3,4,5)\n",
    "\n",
    "print(a[0],a[1],a[2],a[-1],a[True],a[False])\n",
    "\n",
    "# a[0] = 10  # TypeError   , 불변형이므로 요소 수정이 불가"
   ]
  },
  {
   "cell_type": "code",
   "execution_count": 21,
   "id": "17493558-02cb-4b63-97a0-bc21a479077a",
   "metadata": {},
   "outputs": [
    {
     "name": "stdout",
     "output_type": "stream",
     "text": [
      "<class 'list'>\n",
      "[10, 2, 3, 4, 5]\n"
     ]
    },
    {
     "data": {
      "text/plain": [
       "(10, 2, 3, 4, 5)"
      ]
     },
     "execution_count": 21,
     "metadata": {},
     "output_type": "execute_result"
    }
   ],
   "source": [
    "b = list(a) # 형변환\n",
    "print(type(b))\n",
    "b[0] = 10\n",
    "print(b)\n",
    "b = tuple(b)\n",
    "b"
   ]
  },
  {
   "cell_type": "code",
   "execution_count": 22,
   "id": "b261865c-7a5f-44a5-b0ba-ce19066b3a46",
   "metadata": {},
   "outputs": [
    {
     "name": "stdout",
     "output_type": "stream",
     "text": [
      "(1, 2, 3, 4, 5)\n",
      "(2, 3, 4)\n",
      "(1, 2, 3, 4, 5, 6)\n",
      "(1, 2, 3, 4, 5)\n",
      "(1, 4)\n",
      "(6, 5, 4, 3, 2, 1)\n"
     ]
    }
   ],
   "source": [
    "# 슬라이싱 : a[start:end+1:step]\n",
    "a = (1,2,3,4,5,6)\n",
    "print(a[:5])\n",
    "print(a[1:4])\n",
    "print(a[:])\n",
    "print(a[:-1])\n",
    "\n",
    "print(a[::3])\n",
    "print(a[::-1])  # 요소의 순서를 거꾸로 변경한다"
   ]
  },
  {
   "cell_type": "code",
   "execution_count": 23,
   "id": "d1eb71b3-8f08-4894-bb16-97a5098bdea3",
   "metadata": {},
   "outputs": [
    {
     "name": "stdout",
     "output_type": "stream",
     "text": [
      "<class 'tuple'>\n",
      "1 2 hello\n"
     ]
    }
   ],
   "source": [
    "# 패킹(packing), 언패킹 튜플\n",
    "t = 1,2,'hello'   # 괄호 생략이 가능, 쉼표로 데이터가 구분되어 있으면 튜플, 패킹\n",
    "print(type(t))\n",
    "\n",
    "x,y,z = t    # 언패킹\n",
    "print(x,y,z)"
   ]
  },
  {
   "cell_type": "code",
   "execution_count": 24,
   "id": "fc6cac04-c340-4974-ac68-8a85c6c48132",
   "metadata": {},
   "outputs": [
    {
     "name": "stdout",
     "output_type": "stream",
     "text": [
      "10 20 hi\n"
     ]
    }
   ],
   "source": [
    "a,b,c =  10,20,'hi'    # 언패킹\n",
    "print(a,b,c)"
   ]
  },
  {
   "cell_type": "code",
   "execution_count": 25,
   "id": "4889eecf-b96b-440f-8b87-35c6bf14a2a0",
   "metadata": {},
   "outputs": [],
   "source": [
    "t = (1,2,3,4,5,6,7)\n",
    "# a,b = t  # ValueError \n",
    "a,b,_,c,_,_,d = t"
   ]
  },
  {
   "cell_type": "code",
   "execution_count": 26,
   "id": "8259012f-cc6f-4086-baea-69ac47591840",
   "metadata": {},
   "outputs": [
    {
     "name": "stdout",
     "output_type": "stream",
     "text": [
      "2 1\n",
      "2 1\n"
     ]
    }
   ],
   "source": [
    "# 두 개의 값을 서로 변경하는 코드\n",
    "# x : 1, y : 2\n",
    "\n",
    "# (1) 전통 언어 방식\n",
    "x = 1\n",
    "y = 2\n",
    "temp = x\n",
    "x = y\n",
    "y = temp\n",
    "print(x,y)\n",
    "# (2) 파이썬 방식(튜플의 언패킹 사용) \n",
    "x,y = 1,2\n",
    "x,y = y,x\n",
    "print(x,y)"
   ]
  },
  {
   "cell_type": "markdown",
   "id": "d3378fa2-4133-4821-8641-36fdca5f852c",
   "metadata": {},
   "source": [
    "#### [5] 사전(dict): 가변형(mutable), 순서가 없다, 연관형, 매핑형 ,{ } : 중괄호사용\n",
    "{key:value,.....}, key 는 반드시 immutable형 이어야 한다(숫자형,문자열,튜플),\n",
    "value 는 mutable,immutable 모두 사용 가능하다"
   ]
  },
  {
   "cell_type": "code",
   "execution_count": 28,
   "id": "ba515046-d7bb-44b8-a4b1-af70ae85bfa2",
   "metadata": {},
   "outputs": [
    {
     "name": "stdout",
     "output_type": "stream",
     "text": [
      "{'name': '홍길동', 'age': 30, 'phone': '010-1234-1234', 10: 100}\n",
      "<class 'dict'>\n"
     ]
    }
   ],
   "source": [
    "a = {'name':'홍길동', 'age':30,'phone':'010-1234-1234',10:100}\n",
    "print(a)\n",
    "print(type(a))"
   ]
  },
  {
   "cell_type": "code",
   "execution_count": 29,
   "id": "e5290d66-770d-4e15-8584-d7dba34e479d",
   "metadata": {},
   "outputs": [
    {
     "name": "stdout",
     "output_type": "stream",
     "text": [
      "홍길동 30 010-1234-1234 100\n"
     ]
    }
   ],
   "source": [
    "# 요소 접근: a[key]\n",
    "print(a['name'],a['age'],a['phone'],a[10])"
   ]
  },
  {
   "cell_type": "code",
   "execution_count": 30,
   "id": "d765ac7c-0539-4ca7-8835-99cff17b8ffc",
   "metadata": {},
   "outputs": [
    {
     "name": "stdout",
     "output_type": "stream",
     "text": [
      "{'name': '김철수', 'age': 20, 'phone': '010-1234-1234', 10: 500}\n"
     ]
    }
   ],
   "source": [
    "# 요소 수정\n",
    "a['name'] = '김철수'   # 요소 변경이 가능\n",
    "a['age'] = 20\n",
    "a[10] = 500\n",
    "print(a)"
   ]
  },
  {
   "cell_type": "code",
   "execution_count": 31,
   "id": "6aedb023-98f6-42bc-8903-4f8579cd93fe",
   "metadata": {},
   "outputs": [
    {
     "name": "stdout",
     "output_type": "stream",
     "text": [
      "{'name': '김철수', 'age': 20, 'phone': '010-1234-1234', 10: 500, '주소': '서울시', '직업': '학생', (1, 2, 3): '튜플데이터'}\n"
     ]
    }
   ],
   "source": [
    "# 요소 추가\n",
    "a['주소'] = '서울시'\n",
    "a['직업'] = '학생'\n",
    "a[(1,2,3)] = '튜플데이터'\n",
    "print(a)"
   ]
  },
  {
   "cell_type": "markdown",
   "id": "ae73a507-8d9a-41f5-8044-712f682bf3a3",
   "metadata": {},
   "source": [
    "#### [6] 집합(set) : mutable, 순서가 없다, { }중괄호 사용, 중복을 허용하지 않는다"
   ]
  },
  {
   "cell_type": "code",
   "execution_count": 33,
   "id": "50fd19e2-8b83-4475-850e-feaa0568912b",
   "metadata": {},
   "outputs": [
    {
     "name": "stdout",
     "output_type": "stream",
     "text": [
      "{1, 2, 3, 4}\n",
      "<class 'set'>\n"
     ]
    }
   ],
   "source": [
    "s = {1,2,3,4}\n",
    "print(s)\n",
    "print(type(s))"
   ]
  },
  {
   "cell_type": "code",
   "execution_count": 34,
   "id": "4d9b24c2-8392-4535-85b7-006cc964d614",
   "metadata": {},
   "outputs": [
    {
     "name": "stdout",
     "output_type": "stream",
     "text": [
      "{8, 1, 4, 6}\n"
     ]
    }
   ],
   "source": [
    "s = {4,4,4,6,6,6,1,1,1,8,8,8}\n",
    "print(s)"
   ]
  },
  {
   "cell_type": "code",
   "execution_count": 35,
   "id": "e7322dc1-bec1-467a-a899-67139bc05d87",
   "metadata": {},
   "outputs": [
    {
     "name": "stdout",
     "output_type": "stream",
     "text": [
      "[8, 1, 4, 6]\n"
     ]
    }
   ],
   "source": [
    "# 리스트에서 중복된 요소를 제거\n",
    "l = [4,4,4,6,6,6,1,1,1,8,8,8]\n",
    "s = list(set(l))   \n",
    "print(s)"
   ]
  },
  {
   "cell_type": "code",
   "execution_count": null,
   "id": "d5987ce8-8f3c-4b07-bf61-b829a1df2675",
   "metadata": {},
   "outputs": [],
   "source": []
  }
 ],
 "metadata": {
  "kernelspec": {
   "display_name": "Python [conda env:base] *",
   "language": "python",
   "name": "conda-base-py"
  },
  "language_info": {
   "codemirror_mode": {
    "name": "ipython",
    "version": 3
   },
   "file_extension": ".py",
   "mimetype": "text/x-python",
   "name": "python",
   "nbconvert_exporter": "python",
   "pygments_lexer": "ipython3",
   "version": "3.12.7"
  }
 },
 "nbformat": 4,
 "nbformat_minor": 5
}
