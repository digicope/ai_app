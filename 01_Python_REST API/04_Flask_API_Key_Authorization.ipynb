{
 "cells": [
  {
   "cell_type": "markdown",
   "id": "64867a68-8a88-42ef-9fbf-c66ce76571aa",
   "metadata": {},
   "source": [
    "## Flask를 사용한 API 인증 및 키 관리\n",
    "### 1️⃣ Flask 기본 API 코드"
   ]
  },
  {
   "cell_type": "code",
   "execution_count": 3,
   "id": "7ca0fc8b-fb73-482f-b95a-c82f666254f0",
   "metadata": {},
   "outputs": [
    {
     "name": "stdout",
     "output_type": "stream",
     "text": [
      " * Serving Flask app '__main__'\n",
      " * Debug mode: off\n"
     ]
    },
    {
     "name": "stderr",
     "output_type": "stream",
     "text": [
      "WARNING: This is a development server. Do not use it in a production deployment. Use a production WSGI server instead.\n",
      " * Running on http://127.0.0.1:5000\n",
      "Press CTRL+C to quit\n",
      "127.0.0.1 - - [06/Feb/2025 15:51:34] \"GET /api/data HTTP/1.1\" 200 -\n"
     ]
    }
   ],
   "source": [
    "from flask import Flask, request, jsonify\n",
    "\n",
    "app = Flask(__name__)\n",
    "\n",
    "@app.route('/api/data', methods=['GET'])\n",
    "def get_data():\n",
    "    return jsonify({\"message\": \"Hello, API!\"})\n",
    "\n",
    "if __name__ == '__main__':\n",
    "    app.run(debug=False)\n",
    "\n",
    "# http://127.0.0.1:5000/api/data"
   ]
  },
  {
   "cell_type": "markdown",
   "id": "1efb1936-99b1-4405-9de5-a03759445e4f",
   "metadata": {},
   "source": [
    "### 2️⃣ API 키를 사용한 인증\n",
    "- 클라이언트가 보낸 Authorization 헤더에서 API 키를 확인"
   ]
  },
  {
   "cell_type": "code",
   "execution_count": 9,
   "id": "419b4597-2fec-4e71-b43a-bfb1fdf28bb0",
   "metadata": {},
   "outputs": [
    {
     "name": "stdout",
     "output_type": "stream",
     "text": [
      " * Serving Flask app '__main__'\n",
      " * Debug mode: off\n"
     ]
    },
    {
     "name": "stderr",
     "output_type": "stream",
     "text": [
      "WARNING: This is a development server. Do not use it in a production deployment. Use a production WSGI server instead.\n",
      " * Running on http://127.0.0.1:5000\n",
      "Press CTRL+C to quit\n",
      "127.0.0.1 - - [06/Feb/2025 16:42:17] \"GET /api/data HTTP/1.1\" 401 -\n"
     ]
    }
   ],
   "source": [
    "from flask import Flask, request, jsonify\n",
    "\n",
    "app = Flask(__name__)\n",
    "\n",
    "API_KEY = \"my_secret_api_key_1234\"  #  API 키 설정\n",
    "\n",
    "# 요청한 API 키를 검증하는 함수\n",
    "def verify_api_key(request):\n",
    "    api_key = request.headers.get(\"Authorization\")\n",
    "    if api_key and api_key == f\"Bearer {API_KEY}\":\n",
    "        return True\n",
    "    return False    \n",
    "    \n",
    "@app.route('/api/data', methods=['GET'])\n",
    "def get_data():\n",
    "    if not verify_api_key(request):\n",
    "        return jsonify({\"error\": \"Unauthorized\"}), 401  # 인증 실패\n",
    "        \n",
    "    return jsonify({\"message\":  \"Authenticated!\", \"data\": [1, 2, 3, 4, 5]})\n",
    "\n",
    "if __name__ == '__main__':\n",
    "    app.run(debug=False)\n",
    "\n",
    "# http://127.0.0.1:5000/api/data"
   ]
  },
  {
   "cell_type": "markdown",
   "id": "5257e798-5982-4841-9e67-1b7467fa8df7",
   "metadata": {},
   "source": [
    "### 3️⃣ 쿼리 파라미터로 API 키 인증\n",
    "- API 키를 헤더가 아니라 URL 파라미터로 전달"
   ]
  },
  {
   "cell_type": "code",
   "execution_count": 13,
   "id": "4ec8360b-1aa5-4813-b911-08496336aa9d",
   "metadata": {},
   "outputs": [
    {
     "name": "stdout",
     "output_type": "stream",
     "text": [
      " * Serving Flask app '__main__'\n",
      " * Debug mode: off\n"
     ]
    },
    {
     "name": "stderr",
     "output_type": "stream",
     "text": [
      "WARNING: This is a development server. Do not use it in a production deployment. Use a production WSGI server instead.\n",
      " * Running on http://127.0.0.1:5000\n",
      "Press CTRL+C to quit\n",
      "127.0.0.1 - - [06/Feb/2025 16:56:10] \"GET /api/data?api_key=my_secret_api_key_1234 HTTP/1.1\" 200 -\n",
      "127.0.0.1 - - [06/Feb/2025 16:56:56] \"GET /api/data HTTP/1.1\" 401 -\n",
      "127.0.0.1 - - [06/Feb/2025 16:57:22] \"GET /api/data?api_key=my_secret_api_key_1234 HTTP/1.1\" 200 -\n"
     ]
    }
   ],
   "source": [
    "from flask import Flask, request, jsonify\n",
    "\n",
    "app = Flask(__name__)\n",
    "\n",
    "API_KEY = \"my_secret_api_key_1234\"  #  API 키 설정\n",
    "\n",
    "@app.route('/api/data', methods=['GET'])\n",
    "def get_data():\n",
    "    api_key = request.args.get(\"api_key\")\n",
    "    if not api_key or api_key != API_KEY:\n",
    "        return jsonify({\"error\": \"Unauthorized\"}), 401  # 인증 실패\n",
    "        \n",
    "    return jsonify({\"message\":  \"Authenticated!\", \"data\": [1, 2, 3, 4, 5]})\n",
    "\n",
    "if __name__ == '__main__':\n",
    "    app.run(debug=False)"
   ]
  },
  {
   "cell_type": "markdown",
   "id": "d090f82b-5cfe-4851-bbd7-8154b23d71a3",
   "metadata": {},
   "source": [
    "### 4️⃣ 보안 강화 : Flask-Limiter를 적용한 API 예제"
   ]
  },
  {
   "cell_type": "code",
   "execution_count": 15,
   "id": "59df46bc-586e-4a0b-87f7-7846a8da7879",
   "metadata": {},
   "outputs": [],
   "source": [
    "# Flask-Limiter 설치\n",
    "# !pip install flask_limiter"
   ]
  },
  {
   "cell_type": "code",
   "execution_count": 18,
   "id": "f4cd4275-658a-4b7d-bb6a-02712fd8cc62",
   "metadata": {},
   "outputs": [],
   "source": [
    "from flask import Flask, request, jsonify\n",
    "from flask_limiter import Limiter\n",
    "from flask_limiter.util import get_remote_address\n",
    "\n",
    "app = Flask(__name__)\n",
    "\n",
    "# 요청 제한 설정 (IP 기반으로 1분에 10번 요청 가능)\n",
    "limiter = Limiter(get_remote_address, app=app, default_limits=[\"10 per minute\"])\n",
    "\n",
    "@app.route('/api/data', methods=['GET'])\n",
    "@limiter.limit(\"5 per minute\")  # 특정 라우트에서 별도의 제한 설정 가능 (여기서는 1분에 5번)\n",
    "def get_data():\n",
    "    return jsonify({\"message\": \"Success!\", \"data\": [1, 2, 3, 4, 5]})\n",
    "\n",
    "if __name__ == '__main__':\n",
    "    app.run(debug=False)\n",
    "\n",
    "# Web Browser : http://127.0.0.1:5000/api/data?api_key=my_secret_api_key_1234\n",
    "# 1분 내에 5번을 초과하면 아래 메시지 출력 (429 Too Many Requests)\n",
    "# Too Many Requests\n",
    "# 5 per 1 minute"
   ]
  },
  {
   "cell_type": "raw",
   "id": "f0b02c3e-016a-4e1f-87ed-9a0fe55fa74d",
   "metadata": {},
   "source": [
    "Flask-Limiter는 API 요청을 일정 횟수 이상 보내지 못하도록 제한하는 기능을 제공합니다.\n",
    "get_remote_address를 사용하여 IP 기반으로 제한을 적용할 수 있습니다.\n",
    "default_limits=[\"10 per minute\"]는 1분에 10번 요청을 허용합니다.\n",
    "특정 API에만 @limiter.limit(\"5 per minute\")를 적용하여 맞춤 설정이 가능합니다.\n",
    "요청 제한을 초과하면 429 Too Many Requests 에러가 발생합니다."
   ]
  },
  {
   "cell_type": "markdown",
   "id": "47f04be2-9af4-416e-83fb-67c8a331f323",
   "metadata": {},
   "source": [
    "### API 키를 환경 변수에 저장 (코드에 직접 포함하지 않음)"
   ]
  },
  {
   "cell_type": "code",
   "execution_count": 21,
   "id": "d65762a9-4893-49a4-9909-bca2f4a31955",
   "metadata": {},
   "outputs": [],
   "source": [
    "import os\n",
    "API_KEY = os.getenv(\"API_KEY\", \"default_key\")"
   ]
  },
  {
   "cell_type": "code",
   "execution_count": 23,
   "id": "21f1c0c7-03a1-459f-a4a1-a4a8b852d6cc",
   "metadata": {},
   "outputs": [
    {
     "data": {
      "text/plain": [
       "'default_key'"
      ]
     },
     "execution_count": 23,
     "metadata": {},
     "output_type": "execute_result"
    }
   ],
   "source": [
    "API_KEY"
   ]
  },
  {
   "cell_type": "code",
   "execution_count": 25,
   "id": "0365573a-3a0b-41d7-900a-0c616ce08f76",
   "metadata": {},
   "outputs": [],
   "source": [
    "# .env 파일에 API_KEY=my_secret_api_key1234를 저장하고 python-dotenv 패키지로 불러올 수도 있음.\n",
    "# 추후 실습"
   ]
  },
  {
   "cell_type": "raw",
   "id": "e82db1de-f2cd-41b1-9a54-ad8c2e9a5656",
   "metadata": {},
   "source": [
    "🔹 HTTPS 사용 (API 키 노출 방지)란?\n",
    "API 키를 사용할 때 HTTPS(HyperText Transfer Protocol Secure)를 사용하면, 데이터가 암호화되어 네트워크에서 API 키가 노출되는 것을 방지할 수 있습니다.\n",
    "\n",
    "curl -H \"Authorization: Bearer my_secret_api_key\" http://api.example.com/data\n",
    "📌 이 요청은 네트워크에서 가로채기(패킷 스니핑)가 가능하며, API 키가 그대로 노출될 위험이 있습니다.\n",
    "\n",
    "curl -H \"Authorization: Bearer my_secret_api_key\" https://api.example.com/data\n",
    "📌 https://를 사용하면 데이터가 암호화되어 API 키가 안전하게 전송됩니다."
   ]
  },
  {
   "cell_type": "raw",
   "id": "68311ad4-5160-4d1b-bc29-597a4a3deb59",
   "metadata": {},
   "source": [
    "# 기본적으로 Flask는 HTTP로 실행되므로, ssl_context를 사용하여 HTTPS를 활성화할 수 있다\n",
    "\n",
    "from flask import Flask\n",
    "\n",
    "app = Flask(__name__)\n",
    "\n",
    "@app.route('/')\n",
    "def home():\n",
    "    return \"Hello, Secure API!\"\n",
    "\n",
    "if __name__ == '__main__':\n",
    "    app.run(ssl_context=('cert.pem', 'key.pem'))  # SSL 인증서 적용\n",
    "# 이코드는 실행시 PC에 인증서가 없으므로 FileNotFoundError 출력됨!"
   ]
  }
 ],
 "metadata": {
  "kernelspec": {
   "display_name": "Python [conda env:base] *",
   "language": "python",
   "name": "conda-base-py"
  },
  "language_info": {
   "codemirror_mode": {
    "name": "ipython",
    "version": 3
   },
   "file_extension": ".py",
   "mimetype": "text/x-python",
   "name": "python",
   "nbconvert_exporter": "python",
   "pygments_lexer": "ipython3",
   "version": "3.12.7"
  }
 },
 "nbformat": 4,
 "nbformat_minor": 5
}
