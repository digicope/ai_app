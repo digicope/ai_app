{
 "cells": [
  {
   "cell_type": "markdown",
   "id": "e6c916af-330d-4009-bea4-0394b2206ec2",
   "metadata": {},
   "source": [
    "### 함수(function)"
   ]
  },
  {
   "cell_type": "code",
   "execution_count": 2,
   "id": "47047ff3-89ce-44ea-95a7-6463b9091624",
   "metadata": {},
   "outputs": [],
   "source": [
    "# 함수 구현 방법\n",
    "# '''\n",
    "# def 함수명(매개변수,.....):\n",
    "#     <수행할 문장1>\n",
    "#     <수행할 문장2>\n",
    "#     <수행할 문장3>\n",
    "#     ..\n",
    "#     return 반환할값\n",
    "# '''"
   ]
  },
  {
   "cell_type": "code",
   "execution_count": 4,
   "id": "05da8286-dcef-4f3e-a357-927f4f847289",
   "metadata": {},
   "outputs": [],
   "source": [
    "# 수학 함수\n",
    "# f(x) = 10*x + 1   \n",
    "# f(2) = 10*2 + 1 = 21\n",
    "# f(a,b) = a + b\n",
    "# f(10,20) = 10 + 20 = 30"
   ]
  },
  {
   "cell_type": "code",
   "execution_count": 28,
   "id": "a256b163-aeb4-4a29-b356-bacc255b174e",
   "metadata": {
    "collapsed": true,
    "jupyter": {
     "outputs_hidden": true
    }
   },
   "outputs": [
    {
     "name": "stdout",
     "output_type": "stream",
     "text": [
      "<class 'function'>\n",
      "add is called!\n",
      "30\n",
      "add is called!\n",
      "7.8\n",
      "add is called!\n",
      "GoodMorning\n",
      "add is called!\n",
      "[1, 2, 3, 4, 5, 6]\n"
     ]
    }
   ],
   "source": [
    "# 함수 정의\n",
    "def add(a,b):\n",
    "    c = a + b\n",
    "    print('add is called!')\n",
    "    return c\n",
    "    \n",
    "print(type(add))\n",
    "\n",
    "# 함수 호출\n",
    "ret = add(10,20)\n",
    "print(ret)\n",
    "\n",
    "print(add(3.5,4.3))\n",
    "print(add('Good','Morning'))\n",
    "print(add([1,2,3],[4,5,6,]))"
   ]
  },
  {
   "cell_type": "code",
   "execution_count": 42,
   "id": "1a75770f-9615-407a-bd2c-2d012f55e4cf",
   "metadata": {},
   "outputs": [
    {
     "name": "stdout",
     "output_type": "stream",
     "text": [
      "subtract is called!\n",
      "-10\n",
      "multiply is called!\n",
      "200\n",
      "divide is called!\n",
      "0.5\n"
     ]
    }
   ],
   "source": [
    "# \"-\":subtract, \"*\":multiply, \"/\":divide 함수 정의 및 호출\n",
    "def subtract(a,b):\n",
    "    c = a - b\n",
    "    print('subtract is called!')\n",
    "    return c\n",
    "\n",
    "def multiply(a,b):\n",
    "    c = a * b\n",
    "    print('multiply is called!')\n",
    "    return c\n",
    "\n",
    "def divide(a,b):\n",
    "    c = a / b\n",
    "    print('divide is called!')\n",
    "    return c\n",
    "\n",
    "# 함수 호출\n",
    "ret = subtract(10,20)  \n",
    "print(ret)\n",
    "\n",
    "ret = multiply(10,20)  \n",
    "print(ret)\n",
    "\n",
    "ret = divide(10,20)  \n",
    "print(ret)\n",
    "\n",
    "# print(subtract('Good','Morning'))"
   ]
  },
  {
   "cell_type": "code",
   "execution_count": 1,
   "id": "5f7e67c3-2164-4399-b371-4e8fff9dbe7a",
   "metadata": {},
   "outputs": [],
   "source": [
    "### 함수 구현 순서\n",
    "#### (1) def 를 사용하고 함수이름을 결정\n",
    "#### (2) 매개변수(인자)를 결정\n",
    "#### (3) 인자를 사용하여 처리하는 코드를 구현\n",
    "#### (4) return 을 사용하여 결과값을 반환\n",
    "#### (5) 인자를 설정하여 함수를 호출하여 결과를 확인"
   ]
  },
  {
   "cell_type": "code",
   "execution_count": 5,
   "id": "0a83c343-7d91-441e-9788-7daddc348637",
   "metadata": {},
   "outputs": [
    {
     "name": "stdout",
     "output_type": "stream",
     "text": [
      "f_1 is called!\n",
      "None <class 'NoneType'>\n"
     ]
    }
   ],
   "source": [
    "# 함수의 유형 4가지\n",
    "# [1] 반환값이 없고 인자도 없는 경우\n",
    "def f_1():\n",
    "    print('f_1 is called!')\n",
    "\n",
    "ret = f_1()\n",
    "print(ret,type(ret))"
   ]
  },
  {
   "cell_type": "code",
   "execution_count": 7,
   "id": "ffaf9869-a094-4366-8224-9ef315d8f344",
   "metadata": {},
   "outputs": [
    {
     "name": "stdout",
     "output_type": "stream",
     "text": [
      "f_2 is called!\n",
      "12 8\n",
      "None\n"
     ]
    }
   ],
   "source": [
    "# [2] 반환값이 없고 인자는 있는 경우\n",
    "def f_2(a,b):\n",
    "    print(\"f_2 is called!\")\n",
    "    print(a + b, a - b)\n",
    "    \n",
    "ret = f_2(10,2)\n",
    "print(ret)"
   ]
  },
  {
   "cell_type": "code",
   "execution_count": 17,
   "id": "89f38724-2a36-4596-9126-7b2986a0bfbc",
   "metadata": {},
   "outputs": [
    {
     "name": "stdout",
     "output_type": "stream",
     "text": [
      "f_3 is called!\n",
      "('Bread', 'Butter', 100, [1, 2, 3])\n",
      "<class 'tuple'>\n",
      "f_3 is called!\n",
      "Bread Butter 100\n"
     ]
    }
   ],
   "source": [
    "# [3] 반환값이 있고 인자는 없는 경우\n",
    "def f_3():\n",
    "    print(\"f_3 is called!\")\n",
    "    return 'Bread','Butter',100,[1,2,3]\n",
    "\n",
    "ret = f_3()        # 튜플을 패킹으로 반환\n",
    "print(ret)\n",
    "print(type(ret))\n",
    "\n",
    "a,b,c,_ = f_3()    # 튜플을 언패킹으로 반환\n",
    "print(a,b,c)"
   ]
  },
  {
   "cell_type": "code",
   "execution_count": 19,
   "id": "f5a2a954-ee47-42e8-b171-f17b4040e7c0",
   "metadata": {},
   "outputs": [
    {
     "name": "stdout",
     "output_type": "stream",
     "text": [
      "f_4 is called!\n",
      "(8, -2, 15, 0.6)\n"
     ]
    }
   ],
   "source": [
    "# [4] 반환값이 있고 인자도 있는 경우\n",
    "def f_4(a,b):\n",
    "    print('f_4 is called!')\n",
    "    return a+b,a-b,a*b,a/b\n",
    "\n",
    "print(f_4(3,5))"
   ]
  },
  {
   "cell_type": "code",
   "execution_count": 29,
   "id": "3d23d128-2198-4cca-8437-1df8ad0c4060",
   "metadata": {},
   "outputs": [
    {
     "name": "stdout",
     "output_type": "stream",
     "text": [
      "(5, 3)\n",
      "(5, 3)\n",
      "('yes', 'hello')\n"
     ]
    }
   ],
   "source": [
    "# 문제 1: 두 개의 정수형 인자를 주면, 큰 수, 작은 수의 순서로 반환하는 함수 order()를 구현\n",
    "# 3,5 ==> 5,3\n",
    "# 5,3 ==> 5,3\n",
    "def order(a,b):\n",
    "    if a < b:\n",
    "        a,b = b,a\n",
    "    return a,b\n",
    "print(order(3,5))\n",
    "print(order(5,3))\n",
    "print(order('hello','yes'))"
   ]
  },
  {
   "cell_type": "code",
   "execution_count": 43,
   "id": "3970e033-c722-4fcb-bb81-66820c4e1933",
   "metadata": {},
   "outputs": [
    {
     "name": "stdin",
     "output_type": "stream",
     "text": [
      "Your Height(cm): 180\n"
     ]
    },
    {
     "name": "stdout",
     "output_type": "stream",
     "text": [
      "180 <class 'int'>\n"
     ]
    },
    {
     "name": "stdin",
     "output_type": "stream",
     "text": [
      "Your Weight(kg): 70\n"
     ]
    },
    {
     "name": "stdout",
     "output_type": "stream",
     "text": [
      "70 <class 'int'>\n"
     ]
    }
   ],
   "source": [
    "height = int(input(\"Your Height(cm):\"))   # 표준 입력\n",
    "print(height,type(height))                # 표준 출력\n",
    "\n",
    "weight = int(input('Your Weight(kg):'))\n",
    "print(weight,type(weight))   "
   ]
  },
  {
   "cell_type": "code",
   "execution_count": 45,
   "id": "a6f4b894-c166-45e1-8b0f-a879a1181730",
   "metadata": {},
   "outputs": [],
   "source": [
    "# a = 10\n",
    "# if a > 5 and a <= 20:\n",
    "#     print(a*2)\n",
    "# else     \n"
   ]
  },
  {
   "cell_type": "raw",
   "id": "adead884-9a92-4e90-b8ab-b489a40bfda1",
   "metadata": {},
   "source": [
    "1. 키와 몸무게를 입력받아 비만도를 구하고 결과를 출력하시요\n",
    "\n",
    "표준체중(kg)=(신장(cm)-100)×0.85\n",
    "비만도(%)=현재체중/표준체중(%)×100\n",
    "\n",
    "비만 등급을 4단계로 구한다\n",
    "비만도가90%이하 -->저체중\n",
    "90초과~110%     --> 정상\n",
    "110초과~120%   --> 과체중\n",
    "120%초과         -->  비만 \n",
    "\n",
    "(힌트)\n",
    "- calc_fat_ratio() 함수는 키와 몸무게를 인자로 받아 얻어진 비만도와 비만등급을 반환해준다\n",
    "- get_health_info() 함수는 사용자로 부터 키와 몸무게 값을 입력받고 calc_fat_ratio() 함수를 호출하여\n",
    "   반환된 결과를 format()을 사용 print()로 출력해준다"
   ]
  },
  {
   "cell_type": "code",
   "execution_count": 51,
   "id": "ec23fed0-093c-4bd9-8615-3f9d3dec523e",
   "metadata": {},
   "outputs": [
    {
     "name": "stdin",
     "output_type": "stream",
     "text": [
      "Your Height(cm): 170\n",
      "Your Weight(kg): 90\n"
     ]
    },
    {
     "name": "stdout",
     "output_type": "stream",
     "text": [
      "키 : 170cm  몸무게:  90kg\n",
      "비만도 : 151.3% (비만)\n"
     ]
    }
   ],
   "source": [
    "# 실습 과제 1번\n",
    "def calc_fat_ratio(height,weight):\n",
    "    std_weight = (height - 100) * 0.85\n",
    "    fat_ratio = (weight/std_weight)*100\n",
    "    if fat_ratio <= 90:\n",
    "        fat_grade = '저체중'\n",
    "    elif fat_ratio > 90 and fat_ratio <= 110:\n",
    "        fat_grade = '정상'\n",
    "    elif fat_ratio > 110 and fat_ratio <= 120:\n",
    "        fat_grade = '과체중'\n",
    "    else:\n",
    "        fat_grade = '비만'    \n",
    "    return fat_ratio,fat_grade\n",
    "    \n",
    "def get_health_info():\n",
    "    height = int(input('Your Height(cm):'))\n",
    "    weight = int(input('Your Weight(kg):'))\n",
    "    fat_ratio,fat_grade = calc_fat_ratio(height,weight)\n",
    "    print('키 : {0:3}cm  몸무게: {1:3}kg'.format(height,weight))\n",
    "    print('비만도 : {0:>5.1f}% ({1})'.format(fat_ratio,fat_grade))    \n",
    "\n",
    "get_health_info()          "
   ]
  },
  {
   "cell_type": "code",
   "execution_count": 53,
   "id": "9ecb6a6f-16ea-49f0-a685-2edc7c093eab",
   "metadata": {},
   "outputs": [
    {
     "name": "stdin",
     "output_type": "stream",
     "text": [
      "Your Height(cm): 165\n",
      "Your Weight(kg): 56\n"
     ]
    },
    {
     "name": "stdout",
     "output_type": "stream",
     "text": [
      "키 : 165cm  몸무게:  56kg\n",
      "비만도 : 101.4% (정상)\n"
     ]
    }
   ],
   "source": [
    "get_health_info()  "
   ]
  },
  {
   "cell_type": "code",
   "execution_count": 67,
   "id": "e5ad152a-6cf1-4946-b7c7-fbb21bf318e4",
   "metadata": {},
   "outputs": [
    {
     "name": "stdout",
     "output_type": "stream",
     "text": [
      "foo: 20\n",
      "foo: [1, 2, 3]\n",
      "bar: 30 20 11\n",
      "global: 10\n"
     ]
    }
   ],
   "source": [
    "# 함수 사용시 변수의 유효 범위 규칙 (Scope Rule)\n",
    "# local 변수 : 지역 변수  , 변수가 선언된 함수내에서만 사용가능\n",
    "# global 변수 : 전역 변수 , 모든 함수안에서 접근 가능\n",
    "# LEGB 규칙 : Local > Enclosing Function Local > Global > Built-in\n",
    "# 핵심 : 지역변수가 전역변수보다 우선한다!!\n",
    "\n",
    "x = 10           # G:전역변수(Global Variable)\n",
    "y = 11           # G:전역변수(Global Variable)\n",
    "\n",
    "def foo():\n",
    "    x = 20                 #  L:지역변수(Local Variable)  \n",
    "    foo_list = [1,2,3]     #  L:지역변수(Local Variable)  \n",
    "    print('foo:',x)\n",
    "    print('foo:',foo_list)\n",
    "\n",
    "    def bar():\n",
    "        a = 30                #  L:지역변수(Local Variable)  \n",
    "        print('bar:',a,x,y)   # x : Enclosing Function Local\n",
    "\n",
    "    bar()\n",
    "foo()\n",
    "print('global:',x)\n",
    "# bar()"
   ]
  },
  {
   "cell_type": "raw",
   "id": "6f82ce29-bde8-4b84-b246-11f31ba6d9d1",
   "metadata": {},
   "source": [
    "일급함수(First Class Function) : 함수이름을 변수처럼 사용가능하다\n",
    "(1) 함수객체를 다른 함수의 인자로 전달할 수 있다\n",
    "(2) 함수객체를 반환 값으로 전달할 수 있다\n",
    "(3) 함수객체를 다른 자료 구조에 저장해서 사용 가능"
   ]
  },
  {
   "cell_type": "code",
   "execution_count": 88,
   "id": "f0967b90-fb22-45d9-9678-45f52a33507b",
   "metadata": {
    "collapsed": true,
    "jupyter": {
     "outputs_hidden": true
    },
    "scrolled": true
   },
   "outputs": [
    {
     "name": "stdout",
     "output_type": "stream",
     "text": [
      "func_two is called!\n",
      "add_two is called!\n",
      "30\n"
     ]
    },
    {
     "data": {
      "text/plain": [
       "['__annotations__',\n",
       " '__builtins__',\n",
       " '__call__',\n",
       " '__class__',\n",
       " '__closure__',\n",
       " '__code__',\n",
       " '__defaults__',\n",
       " '__delattr__',\n",
       " '__dict__',\n",
       " '__dir__',\n",
       " '__doc__',\n",
       " '__eq__',\n",
       " '__format__',\n",
       " '__ge__',\n",
       " '__get__',\n",
       " '__getattribute__',\n",
       " '__getstate__',\n",
       " '__globals__',\n",
       " '__gt__',\n",
       " '__hash__',\n",
       " '__init__',\n",
       " '__init_subclass__',\n",
       " '__kwdefaults__',\n",
       " '__le__',\n",
       " '__lt__',\n",
       " '__module__',\n",
       " '__name__',\n",
       " '__ne__',\n",
       " '__new__',\n",
       " '__qualname__',\n",
       " '__reduce__',\n",
       " '__reduce_ex__',\n",
       " '__repr__',\n",
       " '__setattr__',\n",
       " '__sizeof__',\n",
       " '__str__',\n",
       " '__subclasshook__',\n",
       " '__type_params__']"
      ]
     },
     "execution_count": 88,
     "metadata": {},
     "output_type": "execute_result"
    }
   ],
   "source": [
    "# (1) 함수객체를 다른 함수의 인자로 전달할 수 있다\n",
    "def add_two(a,b):\n",
    "    print('add_two is called!')\n",
    "    return a + b\n",
    "\n",
    "# b = add_two\n",
    "# print(b(10,20))    # 30\n",
    "\n",
    "def func_two(func,a,b):\n",
    "    print('func_two is called!')\n",
    "    result = func(a,b)\n",
    "    return result\n",
    "\n",
    "result = func_two(add_two,10,20)\n",
    "print(result)\n",
    "\n",
    "dir(add_two)  # '__call__' --> callable (호출가능,함수)"
   ]
  },
  {
   "cell_type": "code",
   "execution_count": 90,
   "id": "25095262-f802-402a-9da4-a96d836a25d2",
   "metadata": {
    "collapsed": true,
    "jupyter": {
     "outputs_hidden": true
    },
    "scrolled": true
   },
   "outputs": [
    {
     "data": {
      "text/plain": [
       "['__add__',\n",
       " '__class__',\n",
       " '__class_getitem__',\n",
       " '__contains__',\n",
       " '__delattr__',\n",
       " '__delitem__',\n",
       " '__dir__',\n",
       " '__doc__',\n",
       " '__eq__',\n",
       " '__format__',\n",
       " '__ge__',\n",
       " '__getattribute__',\n",
       " '__getitem__',\n",
       " '__getstate__',\n",
       " '__gt__',\n",
       " '__hash__',\n",
       " '__iadd__',\n",
       " '__imul__',\n",
       " '__init__',\n",
       " '__init_subclass__',\n",
       " '__iter__',\n",
       " '__le__',\n",
       " '__len__',\n",
       " '__lt__',\n",
       " '__mul__',\n",
       " '__ne__',\n",
       " '__new__',\n",
       " '__reduce__',\n",
       " '__reduce_ex__',\n",
       " '__repr__',\n",
       " '__reversed__',\n",
       " '__rmul__',\n",
       " '__setattr__',\n",
       " '__setitem__',\n",
       " '__sizeof__',\n",
       " '__str__',\n",
       " '__subclasshook__',\n",
       " 'append',\n",
       " 'clear',\n",
       " 'copy',\n",
       " 'count',\n",
       " 'extend',\n",
       " 'index',\n",
       " 'insert',\n",
       " 'pop',\n",
       " 'remove',\n",
       " 'reverse',\n",
       " 'sort']"
      ]
     },
     "execution_count": 90,
     "metadata": {},
     "output_type": "execute_result"
    }
   ],
   "source": [
    "b = [1,2,3,4,5,6]\n",
    "dir(b)  # '__iter__', 반복 가능"
   ]
  },
  {
   "cell_type": "code",
   "execution_count": 94,
   "id": "e58163c7-2f1e-4bea-baf3-d87ac9037690",
   "metadata": {},
   "outputs": [
    {
     "name": "stdout",
     "output_type": "stream",
     "text": [
      "foo2 is called!!\n",
      "<class 'function'>\n",
      "bar2 is called!!\n"
     ]
    }
   ],
   "source": [
    "# (2) 함수객체를 반환 값으로 전달할 수 있다\n",
    "def foo2():\n",
    "    print('foo2 is called!!')\n",
    "    \n",
    "    def bar2():\n",
    "        print('bar2 is called!!')\n",
    "        \n",
    "    return bar2    \n",
    "\n",
    "ret = foo2()\n",
    "print(type(ret))\n",
    "ret()"
   ]
  },
  {
   "cell_type": "code",
   "execution_count": 106,
   "id": "41a0cf7f-24b2-4870-b5b6-055578aafabd",
   "metadata": {},
   "outputs": [
    {
     "name": "stdout",
     "output_type": "stream",
     "text": [
      "[<function add at 0x000001FA2038D260>, <function subtract at 0x000001FA20457060>, <function multiply at 0x000001FA20457740>, <function divide at 0x000001FA20455DA0>]\n",
      "add called!\n",
      "30\n",
      "subtract called!\n",
      "-10\n",
      "multiply called!\n",
      "200\n",
      "divide called!\n",
      "0.5\n",
      "--------------------\n",
      "add called!\n",
      "30\n",
      "subtract called!\n",
      "-10\n",
      "multiply called!\n",
      "200\n",
      "divide called!\n",
      "0.5\n"
     ]
    }
   ],
   "source": [
    "# (3) 함수객체를 다른 자료 구조에 저장해서 사용 가능\n",
    "# 함수 정의\n",
    "def add(a,b):\n",
    "    c = a + b\n",
    "    print('add called!')\n",
    "    return c\n",
    "\n",
    "def subtract(a,b):\n",
    "    c = a - b\n",
    "    print('subtract called!')\n",
    "    return c\n",
    "\n",
    "def multiply(a,b):\n",
    "    c = a * b\n",
    "    print('multiply called!')\n",
    "    return c\n",
    "\n",
    "def divide(a,b):\n",
    "    c = a / b\n",
    "    print('divide called!')\n",
    "    return c\n",
    "\n",
    "# list사용\n",
    "func_list = [add,subtract,multiply,divide]\n",
    "print(func_list)\n",
    "\n",
    "print(func_list[0](10,20))\n",
    "print(func_list[1](10,20))\n",
    "print(func_list[2](10,20))\n",
    "print(func_list[-1](10,20))\n",
    "\n",
    "print('-'*20)\n",
    "\n",
    "for k in func_list:\n",
    "    print(k(10,20))"
   ]
  },
  {
   "cell_type": "markdown",
   "id": "fc5cfb7c-2754-468a-9303-dbd64b35b742",
   "metadata": {},
   "source": [
    "### 람다(lambda) 함수 , 람다식\n",
    "#### : 한줄 짜리 함수식, 식을 정의하는 순간 바로 함수 객체로 사용, 바로 인수로 전달할 수 있다, def 키워드를 사용하지 않는다\n",
    "#### 함수명 = lambda 인수1,인수2,..: 반환할 식"
   ]
  },
  {
   "cell_type": "code",
   "execution_count": 115,
   "id": "6246db5c-cb38-4601-b2ee-8a3db8516082",
   "metadata": {},
   "outputs": [
    {
     "name": "stdout",
     "output_type": "stream",
     "text": [
      "<class 'function'>\n",
      "30\n"
     ]
    }
   ],
   "source": [
    "# def add(a,b):\n",
    "#     return a + b\n",
    "# add(10,20) \n",
    "# add(3,4)\n",
    "\n",
    "add_new = lambda a,b : a + b\n",
    "print(type(add_new))\n",
    "print(add_new(10,20))"
   ]
  },
  {
   "cell_type": "code",
   "execution_count": 129,
   "id": "b4976091-8d05-41d7-81b9-039d403c297f",
   "metadata": {},
   "outputs": [
    {
     "name": "stdout",
     "output_type": "stream",
     "text": [
      "[2, 5, 10, 17]\n",
      "[3, 5, 7, 9]\n"
     ]
    }
   ],
   "source": [
    "def f1(x):\n",
    "    return x*x + 1\n",
    "\n",
    "def f2(x):\n",
    "    return 2*x + 1\n",
    "\n",
    "def g(func):\n",
    "    return [func(x) for x in range(1,5)]\n",
    "\n",
    "# print([f1(1),f1(2),f1(3),f1(4)])\n",
    "# print([f1(x) for x in range(1,5)])  # list Comprehension\n",
    "print(g(f1))\n",
    "print(g(f2))"
   ]
  },
  {
   "cell_type": "code",
   "execution_count": 137,
   "id": "2ba599c3-980c-4681-9909-14940bcd592f",
   "metadata": {},
   "outputs": [
    {
     "name": "stdout",
     "output_type": "stream",
     "text": [
      "[2, 5, 10, 17]\n",
      "[3, 5, 7, 9]\n",
      "[3, 13, 37, 81]\n"
     ]
    }
   ],
   "source": [
    "# 람다 사용\n",
    "def g(func):\n",
    "    return [func(x) for x in range(1,5)]\n",
    "    \n",
    "print(g(lambda x:x*x + 1))\n",
    "print(g(lambda x:2*x + 1))\n",
    "print(g(lambda x:x**3 + x**2 + 1))"
   ]
  },
  {
   "cell_type": "markdown",
   "id": "a5647f1e-c831-4d95-8675-0a9bb319693a",
   "metadata": {},
   "source": [
    "### 파이썬 내장(Built-in) 함수\n",
    ":map()/max()/min()/sum()/round()/id()/hex()/zip()등 다양한 내장 함수가 존재"
   ]
  },
  {
   "cell_type": "code",
   "execution_count": 172,
   "id": "e14cc544-f643-45c4-8229-c60e00323bdb",
   "metadata": {},
   "outputs": [
    {
     "name": "stdout",
     "output_type": "stream",
     "text": [
      "<class 'map'>\n",
      "multi_two is called!!\n",
      "multi_two is called!!\n",
      "multi_two is called!!\n",
      "multi_two is called!!\n",
      "multi_two is called!!\n",
      "multi_two is called!!\n",
      "[2, 4, 6, 8, 10, 12]\n"
     ]
    }
   ],
   "source": [
    "# map()함수\n",
    "def multi_two(x):\n",
    "    print('multi_two is called!!')\n",
    "    return x*2\n",
    "    \n",
    "# print(multi_two(10))\n",
    "# print(multi_two([1,2,3,4,5,6]))\n",
    "\n",
    "ret = map(multi_two,[1,2,3,4,5,6])   # map객체를 생성 \n",
    "print(type(ret))                     # class 'map'\n",
    "print(list(ret))"
   ]
  },
  {
   "cell_type": "code",
   "execution_count": 156,
   "id": "74cc5aa3-750b-4204-af2f-31a642f7d8ac",
   "metadata": {},
   "outputs": [
    {
     "name": "stdout",
     "output_type": "stream",
     "text": [
      "multi_two is called!!\n"
     ]
    },
    {
     "data": {
      "text/plain": [
       "2"
      ]
     },
     "execution_count": 156,
     "metadata": {},
     "output_type": "execute_result"
    }
   ],
   "source": [
    "ret = map(multi_two,[1,2,3,4,5,6])   # map객체를 생성 \n",
    "dir(ret)  # '__next__' ,iterator\n",
    "next(ret)  "
   ]
  },
  {
   "cell_type": "code",
   "execution_count": 170,
   "id": "de8cd006-00ca-4570-aa8f-94c255b109b2",
   "metadata": {},
   "outputs": [
    {
     "name": "stdout",
     "output_type": "stream",
     "text": [
      "multi_two is called!!\n",
      "2\n",
      "multi_two is called!!\n",
      "4\n",
      "multi_two is called!!\n",
      "6\n",
      "multi_two is called!!\n",
      "8\n",
      "multi_two is called!!\n",
      "10\n",
      "multi_two is called!!\n",
      "12\n"
     ]
    }
   ],
   "source": [
    "ret = map(multi_two,[1,2,3,4,5,6])   # map객체를 생성 \n",
    "for k in ret:\n",
    "    print(k)"
   ]
  },
  {
   "cell_type": "code",
   "execution_count": 176,
   "id": "a5e4baa4-1081-4910-a278-a97618cf1408",
   "metadata": {},
   "outputs": [
    {
     "name": "stdout",
     "output_type": "stream",
     "text": [
      "[2, 4, 6, 8, 10, 12]\n"
     ]
    }
   ],
   "source": [
    "# 문제 : 아래 코드를 람다 함수를 사용하여 구현해 보세요(def를 사용하지 않고 람다식으로 함수객체 생성)\n",
    "# def multi_two(x):     # 함수를 반복해서 재사용할 예정인 경우에는 def를 사용한다\n",
    "#     return x*2\n",
    "\n",
    "# ret = map(multi_two,[1,2,3,4,5,6])\n",
    "# print(list(ret))\n",
    "ret = map(lambda x:x*2,[1,2,3,4,5,6])\n",
    "print(list(ret))"
   ]
  },
  {
   "cell_type": "code",
   "execution_count": null,
   "id": "a6ca91a7-5c3d-4b44-ae5d-7dd1c19287d9",
   "metadata": {},
   "outputs": [],
   "source": []
  }
 ],
 "metadata": {
  "kernelspec": {
   "display_name": "Python [conda env:base] *",
   "language": "python",
   "name": "conda-base-py"
  },
  "language_info": {
   "codemirror_mode": {
    "name": "ipython",
    "version": 3
   },
   "file_extension": ".py",
   "mimetype": "text/x-python",
   "name": "python",
   "nbconvert_exporter": "python",
   "pygments_lexer": "ipython3",
   "version": "3.12.7"
  }
 },
 "nbformat": 4,
 "nbformat_minor": 5
}
