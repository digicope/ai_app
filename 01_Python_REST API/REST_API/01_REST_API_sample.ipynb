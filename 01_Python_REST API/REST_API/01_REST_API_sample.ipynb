{
 "cells": [
  {
   "cell_type": "markdown",
   "id": "1bf7cbba-b579-48f8-9662-d521b4d29396",
   "metadata": {},
   "source": [
    "## 파이썬 requests 라이브러리 사용 REST API 사용\n",
    "\n",
    "#### [1] GET 요청 : 서버에서 데이터 가져오기"
   ]
  },
  {
   "cell_type": "raw",
   "id": "22e16207-c2ca-4472-8caf-94b78d7bc72d",
   "metadata": {},
   "source": [
    "- jsonplaceholder.typicode.com은 개발자들이 REST API를 테스트할 수 있도록 제공하는 무료 가짜(API Mock) JSON 데이터 서버이다.\n",
    "  실제 데이터베이스를 필요로 하지 않고, 간단한 HTTP 요청을 통해 JSON 형식의 응답을 받을 수 있습니다. 인증 불필요, JSON 응답 제공,\n",
    "  사용자(User), 게시글(Post), 댓글(Comment), 사진(Photo), 할 일(To-Do) 등 다양한 샘플 리소스를 포함하고 있습니다.\n",
    "- 데이터가 실제로 저장되지 않음 → POST/PUT/DELETE 요청은 성공해도 실제 변경 사항은 반영되지 않음 "
   ]
  },
  {
   "cell_type": "code",
   "execution_count": 22,
   "id": "8e026976-5d30-434f-b43c-f109a7056174",
   "metadata": {},
   "outputs": [
    {
     "name": "stdout",
     "output_type": "stream",
     "text": [
      "<Response [200]> <class 'requests.models.Response'>\n",
      "GET 요청 성공: {'userId': 1, 'id': 1, 'title': 'sunt aut facere repellat provident occaecati excepturi optio reprehenderit', 'body': 'quia et suscipit\\nsuscipit recusandae consequuntur expedita et cum\\nreprehenderit molestiae ut ut quas totam\\nnostrum rerum est autem sunt rem eveniet architecto'}\n"
     ]
    }
   ],
   "source": [
    "import requests\n",
    "\n",
    "url = \"https://jsonplaceholder.typicode.com/posts/1\"  # 샘플 API 엔드포인트\n",
    "\n",
    "response = requests.get(url)                          # requests.get(url)을 사용하여 데이터를 가져옴\n",
    "\n",
    "print(response,type(response))                        # class 'requests.models.Response'\n",
    "\n",
    "if response.status_code == 200:                       # 응답이 200(성공)인지 확인 후 JSON 데이터를 출력\n",
    "    print(\"GET 요청 성공:\", response.json())           # 데이터를 JSON 형식으로 변환  \n",
    "else:\n",
    "    print(\"GET 요청 실패:\", response.status_code)"
   ]
  },
  {
   "cell_type": "code",
   "execution_count": 32,
   "id": "9f5fd44b-db74-4e88-9493-494539aa98a4",
   "metadata": {},
   "outputs": [
    {
     "name": "stdout",
     "output_type": "stream",
     "text": [
      "<class 'dict'>\n",
      "sunt aut facere repellat provident occaecati excepturi optio reprehenderit\n"
     ]
    }
   ],
   "source": [
    "response = requests.get(url)\n",
    "data = response.json()\n",
    "print(type(data))  # class 'dict'\n",
    "print(data['title'])"
   ]
  },
  {
   "cell_type": "code",
   "execution_count": null,
   "id": "f839c842-db78-4449-9277-671317bd2a01",
   "metadata": {},
   "outputs": [],
   "source": [
    "# Web Browser\n",
    "# https://jsonplaceholder.typicode.com/posts/1\n",
    "\n",
    "# linux shell 명령\n",
    "# curl -X GET https://jsonplaceholder.typicode.com/posts/1\n",
    "\n",
    "# Windows powershell 명령 \n",
    "# Invoke-WebRequest -Uri \"https://jsonplaceholder.typicode.com/posts/1\" -Method GET"
   ]
  },
  {
   "cell_type": "code",
   "execution_count": 34,
   "id": "e7f6f323-53ca-4d25-a418-e9f3fe4b5e5e",
   "metadata": {
    "collapsed": true,
    "jupyter": {
     "outputs_hidden": true
    }
   },
   "outputs": [
    {
     "name": "stdout",
     "output_type": "stream",
     "text": [
      "[{'userId': 1, 'id': 1, 'title': 'sunt aut facere repellat provident occaecati excepturi optio reprehenderit', 'body': 'quia et suscipit\\nsuscipit recusandae consequuntur expedita et cum\\nreprehenderit molestiae ut ut quas totam\\nnostrum rerum est autem sunt rem eveniet architecto'}, {'userId': 1, 'id': 2, 'title': 'qui est esse', 'body': 'est rerum tempore vitae\\nsequi sint nihil reprehenderit dolor beatae ea dolores neque\\nfugiat blanditiis voluptate porro vel nihil molestiae ut reiciendis\\nqui aperiam non debitis possimus qui neque nisi nulla'}, {'userId': 1, 'id': 3, 'title': 'ea molestias quasi exercitationem repellat qui ipsa sit aut', 'body': 'et iusto sed quo iure\\nvoluptatem occaecati omnis eligendi aut ad\\nvoluptatem doloribus vel accusantium quis pariatur\\nmolestiae porro eius odio et labore et velit aut'}, {'userId': 1, 'id': 4, 'title': 'eum et est occaecati', 'body': 'ullam et saepe reiciendis voluptatem adipisci\\nsit amet autem assumenda provident rerum culpa\\nquis hic commodi nesciunt rem tenetur doloremque ipsam iure\\nquis sunt voluptatem rerum illo velit'}, {'userId': 1, 'id': 5, 'title': 'nesciunt quas odio', 'body': 'repudiandae veniam quaerat sunt sed\\nalias aut fugiat sit autem sed est\\nvoluptatem omnis possimus esse voluptatibus quis\\nest aut tenetur dolor neque'}, {'userId': 1, 'id': 6, 'title': 'dolorem eum magni eos aperiam quia', 'body': 'ut aspernatur corporis harum nihil quis provident sequi\\nmollitia nobis aliquid molestiae\\nperspiciatis et ea nemo ab reprehenderit accusantium quas\\nvoluptate dolores velit et doloremque molestiae'}, {'userId': 1, 'id': 7, 'title': 'magnam facilis autem', 'body': 'dolore placeat quibusdam ea quo vitae\\nmagni quis enim qui quis quo nemo aut saepe\\nquidem repellat excepturi ut quia\\nsunt ut sequi eos ea sed quas'}, {'userId': 1, 'id': 8, 'title': 'dolorem dolore est ipsam', 'body': 'dignissimos aperiam dolorem qui eum\\nfacilis quibusdam animi sint suscipit qui sint possimus cum\\nquaerat magni maiores excepturi\\nipsam ut commodi dolor voluptatum modi aut vitae'}, {'userId': 1, 'id': 9, 'title': 'nesciunt iure omnis dolorem tempora et accusantium', 'body': 'consectetur animi nesciunt iure dolore\\nenim quia ad\\nveniam autem ut quam aut nobis\\net est aut quod aut provident voluptas autem voluptas'}, {'userId': 1, 'id': 10, 'title': 'optio molestias id quia eum', 'body': 'quo et expedita modi cum officia vel magni\\ndoloribus qui repudiandae\\nvero nisi sit\\nquos veniam quod sed accusamus veritatis error'}]\n"
     ]
    }
   ],
   "source": [
    "user_id = 1\n",
    "response = requests.get(f'https://jsonplaceholder.typicode.com/posts?userId={user_id}')\n",
    "print(response.json())"
   ]
  },
  {
   "cell_type": "markdown",
   "id": "6ade0678-e94a-4994-ad44-64ff2f299b6b",
   "metadata": {},
   "source": [
    "### [2] POST 요청 : 새로운 데이터 생성"
   ]
  },
  {
   "cell_type": "code",
   "execution_count": 37,
   "id": "a8b79e61-268a-4577-b409-608878c137b6",
   "metadata": {},
   "outputs": [
    {
     "name": "stdout",
     "output_type": "stream",
     "text": [
      "POST 요청 성공: {'title': '새로운 글', 'body': '이것은 본문입니다.', 'userId': 1, 'id': 101}\n"
     ]
    }
   ],
   "source": [
    "import requests\n",
    "\n",
    "url = \"https://jsonplaceholder.typicode.com/posts\"\n",
    "data = {\n",
    "    \"title\": \"새로운 글\",\n",
    "    \"body\": \"이것은 본문입니다.\",\n",
    "    \"userId\": 1\n",
    "}\n",
    "\n",
    "response = requests.post(url, json=data)  # 데이터를 서버에 전송\n",
    "\n",
    "if response.status_code == 201:                   # 응답 코드 201(생성됨) 확인 후 결과를 출력\n",
    "    print(\"POST 요청 성공:\", response.json())\n",
    "else:\n",
    "    print(\"POST 요청 실패:\", response.status_code)"
   ]
  },
  {
   "cell_type": "markdown",
   "id": "da88af72-e389-443a-bfd8-9b2a2cfc05f5",
   "metadata": {},
   "source": [
    "### [3] PUT 요청 : 기존 데이터 수정"
   ]
  },
  {
   "cell_type": "code",
   "execution_count": 54,
   "id": "e716695e-91bc-44d2-9eec-ae65c6f6f6f6",
   "metadata": {},
   "outputs": [
    {
     "name": "stdout",
     "output_type": "stream",
     "text": [
      "POST 요청 성공: {'id': 1, 'title': '수정된 제목', 'body': '수정된 본문 내용입니다.', 'userId': 1}\n"
     ]
    }
   ],
   "source": [
    "import requests\n",
    "\n",
    "url = \"https://jsonplaceholder.typicode.com/posts/1\"  # 샘플 API 엔드포인트\n",
    "data = {\n",
    "    \"id\": 1,\n",
    "    \"title\": \"수정된 제목\",\n",
    "    \"body\": \"수정된 본문 내용입니다.\",\n",
    "    \"userId\": 1\n",
    "}\n",
    "\n",
    "response = requests.put(url, json=data)    # 기존 데이터를 수정\n",
    "                                           # 모든 필드를 포함해야 하며, 일부 필드만 수정하려면 PATCH 요청을 사용해야 한다\n",
    "\n",
    "if response.status_code == 200:                  \n",
    "    print(\"PUT 요청 성공:\", response.json())\n",
    "else:\n",
    "    print(\"PUT 요청 실패:\", response.status_code)"
   ]
  },
  {
   "cell_type": "markdown",
   "id": "25bb9fec-0708-4499-874d-d9a2dbd7c688",
   "metadata": {},
   "source": [
    "### [4] DELETE 요청 : 기존 데이터 삭제"
   ]
  },
  {
   "cell_type": "code",
   "execution_count": 57,
   "id": "bac5c7a7-2fd8-46ca-a56e-4115452db711",
   "metadata": {},
   "outputs": [
    {
     "name": "stdout",
     "output_type": "stream",
     "text": [
      "DELETE 요청 성공: 리소스 삭제됨 ,  {}\n"
     ]
    }
   ],
   "source": [
    "import requests\n",
    "\n",
    "url = \"https://jsonplaceholder.typicode.com/posts/1\"  # 샘플 API 엔드포인트\n",
    "\n",
    "response = requests.delete(url)                       # 리소스를 삭제\n",
    "\n",
    "if response.status_code == 200:\n",
    "    print(\"DELETE 요청 성공: 리소스 삭제됨 , \",response.json())     # 삭제 요청의 응답 본문에는 내용이 없다.\n",
    "else:\n",
    "    print(\"DELETE 요청 실패:\", response.status_code)\n"
   ]
  },
  {
   "cell_type": "markdown",
   "id": "a85b3e0d-d882-4436-be77-0106ec45ce76",
   "metadata": {},
   "source": [
    "### REST API 통합 예제"
   ]
  },
  {
   "cell_type": "code",
   "execution_count": null,
   "id": "01dae671-88dc-4c7d-a170-66182f99b5ff",
   "metadata": {},
   "outputs": [
    {
     "name": "stdout",
     "output_type": "stream",
     "text": [
      "GET 요청 결과: [{'userId': 1, 'id': 1, 'title': 'sunt aut facere repellat provident occaecati excepturi optio reprehenderit', 'body': 'quia et suscipit\\nsuscipit recusandae consequuntur expedita et cum\\nreprehenderit molestiae ut ut quas totam\\nnostrum rerum est autem sunt rem eveniet architecto'}, {'userId': 1, 'id': 2, 'title': 'qui est esse', 'body': 'est rerum tempore vitae\\nsequi sint nihil reprehenderit dolor beatae ea dolores neque\\nfugiat blanditiis voluptate porro vel nihil molestiae ut reiciendis\\nqui aperiam non debitis possimus qui neque nisi nulla'}]\n",
      "POST 요청 결과: {'title': '새로운 제목', 'body': '새로운 내용', 'userId': 1, 'id': 101}\n"
     ]
    }
   ],
   "source": [
    "import requests\n",
    "\n",
    "# 기본 URL 설정\n",
    "BASE_URL = \"https://jsonplaceholder.typicode.com/posts\"\n",
    "\n",
    "# GET 요청 예제 (모든 게시글 가져오기)\n",
    "def get_posts():\n",
    "    response = requests.get(BASE_URL)\n",
    "    if response.status_code == 200:\n",
    "        return response.json()\n",
    "    else:\n",
    "        return f\"Error: {response.status_code}\"\n",
    "\n",
    "# POST 요청 예제 (새로운 게시글 생성)\n",
    "def create_post(title, body, user_id):\n",
    "    data = {\n",
    "        \"title\": title,\n",
    "        \"body\": body,\n",
    "        \"userId\": user_id\n",
    "    }\n",
    "    response = requests.post(BASE_URL, json=data)\n",
    "    return response.json()\n",
    "\n",
    "# PUT 요청 예제 (기존 게시글 수정)\n",
    "def update_post(post_id, title, body):\n",
    "    data = {\n",
    "        \"title\": title,\n",
    "        \"body\": body\n",
    "    }\n",
    "    response = requests.put(f\"{BASE_URL}/{post_id}\", json=data)\n",
    "    return response.json()\n",
    "\n",
    "# DELETE 요청 예제 (게시글 삭제)\n",
    "def delete_post(post_id):\n",
    "    response = requests.delete(f\"{BASE_URL}/{post_id}\")\n",
    "    if response.status_code == 200:\n",
    "        return \"Deleted successfully\"\n",
    "    else:\n",
    "        return f\"Error: {response.status_code}\"\n",
    "\n",
    "# 실행 예제\n",
    "if __name__ == \"__main__\":\n",
    "    print(\"GET 요청 결과:\", get_posts()[:2])  # 처음 두 개의 게시글만 출력\n",
    "    print(\"POST 요청 결과:\", create_post(\"새로운 제목\", \"새로운 내용\", 1))\n",
    "    print(\"PUT 요청 결과:\", update_post(1, \"수정된 제목\", \"수정된 내용\"))\n",
    "    print(\"DELETE 요청 결과:\", delete_post(1))\n"
   ]
  },
  {
   "cell_type": "code",
   "execution_count": null,
   "id": "9f988c91-9fe2-42e9-a36d-a5dc1084098b",
   "metadata": {},
   "outputs": [],
   "source": []
  }
 ],
 "metadata": {
  "kernelspec": {
   "display_name": "Python [conda env:base] *",
   "language": "python",
   "name": "conda-base-py"
  },
  "language_info": {
   "codemirror_mode": {
    "name": "ipython",
    "version": 3
   },
   "file_extension": ".py",
   "mimetype": "text/x-python",
   "name": "python",
   "nbconvert_exporter": "python",
   "pygments_lexer": "ipython3",
   "version": "3.12.7"
  }
 },
 "nbformat": 4,
 "nbformat_minor": 5
}
