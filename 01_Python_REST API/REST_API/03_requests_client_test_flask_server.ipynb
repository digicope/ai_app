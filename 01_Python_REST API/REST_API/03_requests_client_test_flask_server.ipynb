{
 "cells": [
  {
   "cell_type": "markdown",
   "id": "13a82a71-f5d5-45dc-b566-3f950fcc8a06",
   "metadata": {},
   "source": [
    "### Flask Web Server 호출 클라이언트 requests 사용 소스 코드\n",
    "#### [Flask 웹 서버 소스 실행 시킨 후 실행할것]"
   ]
  },
  {
   "cell_type": "code",
   "execution_count": 20,
   "id": "09e6efe2-285d-46a7-b123-f6c9a0fdc9a8",
   "metadata": {},
   "outputs": [
    {
     "name": "stdout",
     "output_type": "stream",
     "text": [
      "b'Hello, Flask!'\n",
      "나는 데이터 입니다\n"
     ]
    }
   ],
   "source": [
    "import requests\n",
    "\n",
    "url = \"http://127.0.0.1:5000\"\n",
    "response = requests.get(url)\n",
    "print(response.content)\n",
    "\n",
    "response = requests.get(url + \"/posts/1\")\n",
    "print(response.content.decode('utf-8'))"
   ]
  },
  {
   "cell_type": "code",
   "execution_count": 28,
   "id": "aa85d522-ca50-4109-9b82-a724523c8582",
   "metadata": {},
   "outputs": [
    {
     "name": "stdout",
     "output_type": "stream",
     "text": [
      "<!DOCTYPE html>\n",
      "<html>\n",
      "<head>\n",
      "    <title>Flask Example</title>\n",
      "</head>\n",
      "<body>\n",
      "    <h1>Hello, 홍길동!</h1>\n",
      "</body>\n",
      "</html>\n"
     ]
    }
   ],
   "source": [
    "# html template을 사용한 서버에 요청\n",
    "url = \"http://127.0.0.1:5000\"\n",
    "response = requests.get(url + \"/hello/홍길동\")\n",
    "print(response.content.decode('utf-8'))"
   ]
  },
  {
   "cell_type": "code",
   "execution_count": 99,
   "id": "941b1f65-43e0-4521-8ad5-82e4ff36fbbb",
   "metadata": {},
   "outputs": [
    {
     "name": "stdout",
     "output_type": "stream",
     "text": [
      "{}\n"
     ]
    }
   ],
   "source": [
    "# (1) GET /data - 저장된 모든 데이터 조회\n",
    "\n",
    "# shell 명령\n",
    "# curl -X GET http://127.0.0.1:5000/data\n",
    "\n",
    "# windows powershell 명령 \n",
    "# Invoke-WebRequest -Uri \"http://127.0.0.1:5000/data\" -Method GET\n",
    "\n",
    "# Web Browser : http://127.0.0.1:5000/data\n",
    "\n",
    "import requests\n",
    "response = requests.get(\"http://127.0.0.1:5000/data\")\n",
    "print(response.json())"
   ]
  },
  {
   "cell_type": "code",
   "execution_count": 93,
   "id": "db2f542a-8481-4036-b6a9-e4aca00ac040",
   "metadata": {},
   "outputs": [
    {
     "name": "stdout",
     "output_type": "stream",
     "text": [
      "{'message': 'Data added succesfully', 'name': '홍길동'}\n"
     ]
    }
   ],
   "source": [
    "# (2) POST /data - 데이터 추가 (key, value 필요)\n",
    "\n",
    "# curl -X POST http://127.0.0.1:5000/data -H \"Content-Type: application/json\" -d '{\"key\": \"name\", \"value\": \"Jane\"}'\n",
    "# Invoke-RestMethod -Uri \"http://127.0.0.1:5000/data\" -Method POST -ContentType \"application/json\" -Body '{\"key\": \"name\", \"value\": \"Jane\"}'\n",
    "\n",
    "import requests\n",
    "data = {'key':'name','value':'홍길동'}\n",
    "response = requests.post(\"http://127.0.0.1:5000/data\",json=data)\n",
    "print(response.json())"
   ]
  },
  {
   "cell_type": "code",
   "execution_count": 95,
   "id": "43b6d52b-d398-40b7-9b4d-f1fd2469791a",
   "metadata": {},
   "outputs": [
    {
     "name": "stdout",
     "output_type": "stream",
     "text": [
      "{'message': 'Data updated successfully'}\n"
     ]
    }
   ],
   "source": [
    "# (3) PUT /data/<key> - 특정 key 값 업데이트\n",
    "\n",
    "# curl -X PUT http://127.0.0.1:5000/data/name -H \"Content-Type: application/json\" -d '{\"value\": \"John\"}'\n",
    "# Invoke-RestMethod -Uri \"http://127.0.0.1:5000/data/name\" -Method PUT -ContentType \"application/json\" -Body '{\"value\": \"John\"}'\n",
    "\n",
    "import requests\n",
    "import requests\n",
    "data = {'value':'김철수'}\n",
    "response = requests.put(\"http://127.0.0.1:5000/data/name\",json=data)\n",
    "print(response.json())"
   ]
  },
  {
   "cell_type": "code",
   "execution_count": 97,
   "id": "422da585-13db-49a2-882a-f071665e6153",
   "metadata": {},
   "outputs": [
    {
     "name": "stdout",
     "output_type": "stream",
     "text": [
      "{'message': 'Data deleted successfully'}\n"
     ]
    }
   ],
   "source": [
    "# (4) DELETE /data/<key> - 특정 key 데이터 삭제\n",
    "\n",
    "# curl -X DELETE http://127.0.0.1:5000/data/name\n",
    "# Invoke-RestMethod -Uri \"http://127.0.0.1:5000/data/name\" -Method DELETE\n",
    "\n",
    "import requests\n",
    "response = requests.delete(\"http://127.0.0.1:5000/data/name\")\n",
    "print(response.json())"
   ]
  },
  {
   "cell_type": "code",
   "execution_count": null,
   "id": "0d2466e1-a14f-4c46-bc75-a5d7b52b229a",
   "metadata": {},
   "outputs": [],
   "source": []
  }
 ],
 "metadata": {
  "kernelspec": {
   "display_name": "Python [conda env:base] *",
   "language": "python",
   "name": "conda-base-py"
  },
  "language_info": {
   "codemirror_mode": {
    "name": "ipython",
    "version": 3
   },
   "file_extension": ".py",
   "mimetype": "text/x-python",
   "name": "python",
   "nbconvert_exporter": "python",
   "pygments_lexer": "ipython3",
   "version": "3.12.7"
  }
 },
 "nbformat": 4,
 "nbformat_minor": 5
}
