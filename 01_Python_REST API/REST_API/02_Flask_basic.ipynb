{
 "cells": [
  {
   "cell_type": "markdown",
   "id": "e850c13d-ad27-47fa-9633-02530d06b083",
   "metadata": {},
   "source": [
    "# Flask 웹 프레임워크\n",
    "### [1] Flask 기본 앱 실행"
   ]
  },
  {
   "cell_type": "code",
   "execution_count": 1,
   "id": "3f3dc8ba-9e58-4d77-a10f-bc48fad883c6",
   "metadata": {},
   "outputs": [
    {
     "name": "stdout",
     "output_type": "stream",
     "text": [
      " * Serving Flask app '__main__'\n",
      " * Debug mode: off\n"
     ]
    },
    {
     "name": "stderr",
     "output_type": "stream",
     "text": [
      "WARNING: This is a development server. Do not use it in a production deployment. Use a production WSGI server instead.\n",
      " * Running on http://127.0.0.1:5000\n",
      "Press CTRL+C to quit\n"
     ]
    }
   ],
   "source": [
    "# pip install flask\n",
    "\n",
    "from flask import Flask\n",
    "\n",
    "app = Flask(__name__)\n",
    "\n",
    "@app.route('/')\n",
    "def home():\n",
    "    return \"Hello, Flask!\"\n",
    "\n",
    "if __name__ == '__main__':\n",
    "    app.run(debug=False)"
   ]
  },
  {
   "cell_type": "markdown",
   "id": "61152b03-8081-45b6-ad38-0dc21befd0b3",
   "metadata": {},
   "source": [
    "#####  Jupyter Notebook이나 IPython 환경에서 app.run(debug=True)를 실행하면 자동으로 SystemExit 예외가 발생할 수 있다.\n",
    "#####     이는 Flask의 개발 서버가 자체적으로 실행을 관리하는 방식과 Jupyter Notebook의 실행 방식이 충돌하기 때문이다."
   ]
  },
  {
   "cell_type": "markdown",
   "id": "ac9c13be-1829-4921-822c-9c198af9c3a9",
   "metadata": {},
   "source": [
    "### [2] 라우팅 및 동적 처리"
   ]
  },
  {
   "cell_type": "raw",
   "id": "a8c9efc9-a649-4278-bd07-998d3be91095",
   "metadata": {},
   "source": [
    "Flask는 기본적으로 templates 폴더에서 HTML 파일을 찾습니다. 프로젝트 폴더를 다음과 같이 구성하세요.\n",
    "\n",
    "/my_flask_app\r\n",
    "│-- app.py\r\n",
    "│-- /templates\r\n",
    "│   ├── index.h\n",
    "\n",
    "아래 템플릿 파일을 templates/index.html 로 먼저 저장해 놓는다\n",
    "ml\r\n"
   ]
  },
  {
   "cell_type": "raw",
   "id": "03d91560-22bd-4d32-83a7-2ddb77b7dd35",
   "metadata": {},
   "source": [
    "<!DOCTYPE html>\n",
    "<html>\n",
    "<head>\n",
    "    <title>Flask Example</title>\n",
    "</head>\n",
    "<body>\n",
    "    <h1>Hello, {{ name }}!</h1>\n",
    "</body>\n",
    "</html>"
   ]
  },
  {
   "cell_type": "code",
   "execution_count": 2,
   "id": "75f24861-c2b6-4bd6-bbc8-dfcf2e1fc02f",
   "metadata": {},
   "outputs": [
    {
     "name": "stdout",
     "output_type": "stream",
     "text": [
      " * Serving Flask app '__main__'\n",
      " * Debug mode: off\n"
     ]
    },
    {
     "name": "stderr",
     "output_type": "stream",
     "text": [
      "WARNING: This is a development server. Do not use it in a production deployment. Use a production WSGI server instead.\n",
      " * Running on http://127.0.0.1:5000\n",
      "Press CTRL+C to quit\n"
     ]
    }
   ],
   "source": [
    "from flask import Flask, render_template\n",
    "\n",
    "app = Flask(__name__)\n",
    "\n",
    "@app.route('/')\n",
    "def home():\n",
    "    return \"Hello, Flask!\"\n",
    "    \n",
    "@app.route('/hello/<name>')\n",
    "def hello(name):\n",
    "    return render_template('index.html', name=name)\n",
    "\n",
    "if __name__ == '__main__':\n",
    "     app.run(debug=False)\n",
    "\n",
    "# 웹 브라우저에서 다음 주소로 이동하여 결과를 확인\n",
    "# http://127.0.0.1:5000/hello/홍길동"
   ]
  },
  {
   "cell_type": "markdown",
   "id": "5f239d37-8947-41d8-bb1b-75b4477d8c3d",
   "metadata": {},
   "source": [
    "### [3] Flask 웹서버에서 HTTP 메서드 (GET,POST등) 처리\n",
    "Flask를 이용하여 GET, POST, PUT, DELETE 메서드를 처리하는 API를 구현\n",
    "\n",
    "- GET /data : 저장된 모든 데이터를 반환\n",
    "- POST /data : 새로운 데이터를 추가 (key, value 필요)\n",
    "- PUT /data/<key> : 특정 key 값을 업데이트\n",
    "- DELETE /data/<key> : 특정 key 데이터를 삭제"
   ]
  },
  {
   "cell_type": "code",
   "execution_count": 3,
   "id": "30bdec96-8b06-4078-9f50-ab99220efd41",
   "metadata": {},
   "outputs": [
    {
     "name": "stdout",
     "output_type": "stream",
     "text": [
      " * Serving Flask app '__main__'\n",
      " * Debug mode: off\n"
     ]
    },
    {
     "name": "stderr",
     "output_type": "stream",
     "text": [
      "WARNING: This is a development server. Do not use it in a production deployment. Use a production WSGI server instead.\n",
      " * Running on http://127.0.0.1:5000\n",
      "Press CTRL+C to quit\n"
     ]
    }
   ],
   "source": [
    "from flask import Flask, request, jsonify\n",
    "\n",
    "app = Flask(__name__)\n",
    "\n",
    "# 데이터 저장소 (간단한 딕셔너리 활용)\n",
    "data_store = {}\n",
    "\n",
    "@app.route('/')\n",
    "def home():\n",
    "    return \"Hello, Flask!\"\n",
    "\n",
    "@app.route('/data', methods=['GET'])\n",
    "def get_data():\n",
    "    return jsonify(data_store), 200\n",
    "\n",
    "@app.route('/data', methods=['POST'])\n",
    "def create_data():\n",
    "    new_data = request.json\n",
    "    key = new_data.get('key')\n",
    "    value = new_data.get('value')\n",
    "    if key and value:\n",
    "        data_store[key] = value\n",
    "        return jsonify({\"message\": \"Data added successfully\"}), 201\n",
    "    return jsonify({\"error\": \"Invalid data\"}), 400\n",
    "\n",
    "@app.route('/data/<key>', methods=['PUT'])\n",
    "def update_data(key):\n",
    "    if key not in data_store:\n",
    "        return jsonify({\"error\": \"Key not found\"}), 404\n",
    "    \n",
    "    new_value = request.json.get('value')\n",
    "    if new_value:\n",
    "        data_store[key] = new_value\n",
    "        return jsonify({\"message\": \"Data updated successfully\"}), 200\n",
    "    return jsonify({\"error\": \"Invalid data\"}), 400\n",
    "\n",
    "@app.route('/data/<key>', methods=['DELETE'])\n",
    "def delete_data(key):\n",
    "    if key in data_store:\n",
    "        del data_store[key]\n",
    "        return jsonify({\"message\": \"Data deleted successfully\"}), 200\n",
    "    return jsonify({\"error\": \"Key not found\"}), 404\n",
    "\n",
    "if __name__ == '__main__':\n",
    "    app.run(debug=False)"
   ]
  },
  {
   "cell_type": "markdown",
   "id": "01f0352a-60e3-491b-9d0a-d296628f2c01",
   "metadata": {},
   "source": [
    "### Flask Web Server 호출 클라이언트 requests 사용 소스 코드\n",
    "#### [별도의 앱으로 따로 실행할것]"
   ]
  },
  {
   "cell_type": "code",
   "execution_count": null,
   "id": "6de9acd1-2fcd-495d-b677-f05423485a00",
   "metadata": {},
   "outputs": [],
   "source": [
    "# (1) GET /data - 저장된 모든 데이터 조회\n",
    "# Web Browser : http://127.0.0.1:5000/data\n",
    "\n",
    "# shell 명령\n",
    "# curl -X GET http://127.0.0.1:5000/data\n",
    "\n",
    "# windows powershell 명령 \n",
    "# Invoke-WebRequest -Uri \"http://127.0.0.1:5000/data\" -Method GET\n",
    "\n",
    "# Web Browser : http://127.0.0.1:5000/data\n",
    "\n",
    "# 파이썬 코드 \n",
    "import requests\n",
    "response = requests.get(\"http://127.0.0.1:5000/data\")\n",
    "print(response.json())"
   ]
  },
  {
   "cell_type": "code",
   "execution_count": null,
   "id": "f99aa976-74ef-4f3b-b82e-15324dc97891",
   "metadata": {},
   "outputs": [],
   "source": [
    "# (2) POST /data - 데이터 추가 (key, value 필요)\n",
    "\n",
    "# curl -X POST http://127.0.0.1:5000/data -H \"Content-Type: application/json\" -d '{\"key\": \"name\", \"value\": \"Jane\"}'\n",
    "# Invoke-RestMethod -Uri \"http://127.0.0.1:5000/data\" -Method POST -ContentType \"application/json\" -Body '{\"key\": \"name\", \"value\": \"Jane\"}'\n",
    "\n",
    "import requests\n",
    "data = {\"key\": \"name\", \"value\": \"Tom\"}\n",
    "response = requests.post(\"http://127.0.0.1:5000/data\", json=data)\n",
    "print(response.json())"
   ]
  },
  {
   "cell_type": "code",
   "execution_count": null,
   "id": "36a5d504-1c07-40c8-b8f9-24a4bb1bd6d1",
   "metadata": {},
   "outputs": [],
   "source": [
    "# (3) PUT /data/<key> - 특정 key 값 업데이트\n",
    "\n",
    "# curl -X PUT http://127.0.0.1:5000/data/name -H \"Content-Type: application/json\" -d '{\"value\": \"John\"}'\n",
    "# Invoke-RestMethod -Uri \"http://127.0.0.1:5000/data/name\" -Method PUT -ContentType \"application/json\" -Body '{\"value\": \"John\"}'\n",
    "\n",
    "import requests\n",
    "data = {\"value\": \"John\"}\n",
    "response = requests.put(\"http://127.0.0.1:5000/data/name\", json=data)\n",
    "print(response.json())"
   ]
  },
  {
   "cell_type": "code",
   "execution_count": null,
   "id": "c851f5a4-c9c1-4c2b-924a-e090e701647d",
   "metadata": {},
   "outputs": [],
   "source": [
    "# (4) DELETE /data/<key> - 특정 key 데이터 삭제\n",
    "\n",
    "# curl -X DELETE http://127.0.0.1:5000/data/name\n",
    "# Invoke-RestMethod -Uri \"http://127.0.0.1:5000/data/name\" -Method DELETE\n",
    "\n",
    "import requests\n",
    "response = requests.delete(\"http://127.0.0.1:5000/data/name\")\n",
    "print(response.json())"
   ]
  }
 ],
 "metadata": {
  "kernelspec": {
   "display_name": "Python [conda env:base] *",
   "language": "python",
   "name": "conda-base-py"
  },
  "language_info": {
   "codemirror_mode": {
    "name": "ipython",
    "version": 3
   },
   "file_extension": ".py",
   "mimetype": "text/x-python",
   "name": "python",
   "nbconvert_exporter": "python",
   "pygments_lexer": "ipython3",
   "version": "3.12.7"
  }
 },
 "nbformat": 4,
 "nbformat_minor": 5
}
