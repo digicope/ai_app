{
 "cells": [
  {
   "cell_type": "markdown",
   "id": "1975c8b3-0990-4f3e-a4c5-fa5fc8938ca2",
   "metadata": {},
   "source": [
    "## Flask 웹 프레임워크\n",
    "### [1] Flask 기본 앱 실행"
   ]
  },
  {
   "cell_type": "code",
   "execution_count": 24,
   "id": "813eeb02-7a41-408f-9520-597ae166e9f8",
   "metadata": {},
   "outputs": [
    {
     "name": "stdout",
     "output_type": "stream",
     "text": [
      " * Serving Flask app '__main__'\n",
      " * Debug mode: off\n"
     ]
    },
    {
     "name": "stderr",
     "output_type": "stream",
     "text": [
      "WARNING: This is a development server. Do not use it in a production deployment. Use a production WSGI server instead.\n",
      " * Running on http://127.0.0.1:5000\n",
      "Press CTRL+C to quit\n",
      "127.0.0.1 - - [06/Feb/2025 11:45:14] \"GET / HTTP/1.1\" 200 -\n",
      "127.0.0.1 - - [06/Feb/2025 11:45:14] \"GET /posts/1 HTTP/1.1\" 200 -\n"
     ]
    }
   ],
   "source": [
    "# ! pip install flask\n",
    "from flask import Flask\n",
    "\n",
    "app = Flask(__name__)\n",
    "\n",
    "@app.route('/')\n",
    "def home():\n",
    "    return \"Hello, Flask!\"\n",
    "\n",
    "@app.route('/posts/1')\n",
    "def posts():\n",
    "    return \"나는 데이터 입니다\"\n",
    "    \n",
    "@app.route('/favicon.ico')\n",
    "def favicon():\n",
    "    return '',204  # No Content 응답\n",
    "\n",
    "if __name__ == '__main__':\n",
    "    app.run(debug=False)"
   ]
  },
  {
   "cell_type": "markdown",
   "id": "e0c95c71-29cc-4b6e-850e-16611782b589",
   "metadata": {},
   "source": [
    "### [2] 라우팅 및 동적 처리"
   ]
  },
  {
   "cell_type": "raw",
   "id": "9c983286-1704-40e7-ab4f-24dcd80936b7",
   "metadata": {},
   "source": [
    "Flask는 기본적으로 templates 폴더에서 HTML 파일을 찾습니다. 프로젝트 폴더를 다음과 같이 구성하세요.\n",
    "\n",
    "/my_flask_app\n",
    "│-- app.py\n",
    "│-- /templates\n",
    "│   ├── index.html\n",
    "\n",
    "아래 템플릿 파일을 templates/index.html 로 먼저 저장해 놓는다\n",
    "<!DOCTYPE html>\n",
    "<html>\n",
    "<head>\n",
    "    <title>Flask Example</title>\n",
    "</head>\n",
    "<body>\n",
    "    <h1>Hello, {{ name }}!</h1>\n",
    "</body>\n",
    "</html>"
   ]
  },
  {
   "cell_type": "code",
   "execution_count": 38,
   "id": "8c12cf3c-e7ea-4510-b3df-51e41e08c0f7",
   "metadata": {},
   "outputs": [
    {
     "name": "stdout",
     "output_type": "stream",
     "text": [
      " * Serving Flask app '__main__'\n",
      " * Debug mode: off\n"
     ]
    },
    {
     "name": "stderr",
     "output_type": "stream",
     "text": [
      "WARNING: This is a development server. Do not use it in a production deployment. Use a production WSGI server instead.\n",
      " * Running on http://127.0.0.1:5000\n",
      "Press CTRL+C to quit\n"
     ]
    }
   ],
   "source": [
    "from flask import Flask, render_template\n",
    "\n",
    "app = Flask(__name__)\n",
    "\n",
    "@app.route('/')\n",
    "def home():\n",
    "    return \"Hello, Flask!\"\n",
    "\n",
    "@app.route('/hello/<name>')\n",
    "def hello(name):\n",
    "    return render_template('index.html',name=name)\n",
    "\n",
    "if __name__ == '__main__':\n",
    "    app.run(debug=False)\n",
    "    \n",
    "# 웹 브라우저에서 다음 주소로 이동하여 결과를 확인\n",
    "# http://127.0.0.1:5000/hello/홍길동    "
   ]
  },
  {
   "cell_type": "markdown",
   "id": "7de9b74f-834d-41f5-9752-03b0c10c2287",
   "metadata": {},
   "source": [
    "### [3] Flask 웹서버에서 HTTP 메서드 (GET,POST등) 처리\n",
    "Flask를 이용하여 GET, POST, PUT, DELETE 메서드를 처리하는 API를 구현\n",
    "\n",
    "- GET /data : 저장된 모든 데이터를 반환\n",
    "- POST /data : 새로운 데이터를 추가 (key, value 필요)\n",
    "- PUT /data/<key> : 특정 key 값을 업데이트\n",
    "- DELETE /data/<key> : 특정 key 데이터를 삭제"
   ]
  },
  {
   "cell_type": "code",
   "execution_count": null,
   "id": "7241c3f9-e71c-4f2f-a854-68078fc0503c",
   "metadata": {},
   "outputs": [
    {
     "name": "stdout",
     "output_type": "stream",
     "text": [
      " * Serving Flask app '__main__'\n",
      " * Debug mode: off\n"
     ]
    },
    {
     "name": "stderr",
     "output_type": "stream",
     "text": [
      "WARNING: This is a development server. Do not use it in a production deployment. Use a production WSGI server instead.\n",
      " * Running on http://127.0.0.1:5000\n",
      "Press CTRL+C to quit\n",
      "127.0.0.1 - - [06/Feb/2025 14:53:05] \"GET /data HTTP/1.1\" 200 -\n",
      "127.0.0.1 - - [06/Feb/2025 14:53:07] \"POST /data HTTP/1.1\" 201 -\n",
      "127.0.0.1 - - [06/Feb/2025 14:53:10] \"PUT /data/name HTTP/1.1\" 200 -\n",
      "127.0.0.1 - - [06/Feb/2025 14:53:14] \"DELETE /data/name HTTP/1.1\" 200 -\n",
      "127.0.0.1 - - [06/Feb/2025 14:53:22] \"GET /data HTTP/1.1\" 200 -\n"
     ]
    }
   ],
   "source": [
    "from flask import Flask, request, jsonify\n",
    "\n",
    "app = Flask(__name__)\n",
    "\n",
    "# 데이터 저장소 (간단한 딕셔너리 활용)\n",
    "data_store = {}\n",
    "\n",
    "@app.route('/')\n",
    "def home():\n",
    "    return \"Hello, Flask!\"\n",
    "\n",
    "# GET 요청 처리\n",
    "@app.route('/data', methods=['GET'])\n",
    "def get_data():\n",
    "    return jsonify(data_store), 200\n",
    "\n",
    "# POST 요청 처리\n",
    "@app.route('/data', methods=['POST'])\n",
    "def create_data():\n",
    "    new_data = request.json        #  {'key':'name','value':'홍길동'}\n",
    "    key = new_data.get('key')      #  'name'\n",
    "    value = new_data.get('value')  #  홍길동\n",
    "    if key and value:\n",
    "        data_store[key] = value\n",
    "        return jsonify({\"message\":\"Data added succesfully\",key:value} ), 201\n",
    "    return jsonify({\"error\":\"Invalid data\"}), 400   \n",
    "\n",
    "# PUT 요청 처리\n",
    "@app.route('/data/<key>', methods=['PUT'])\n",
    "def update_data(key):\n",
    "    if key not in data_store:\n",
    "        return jsonify({\"error\": \"Key not found\"}), 404\n",
    "    \n",
    "    new_value = request.json.get('value')\n",
    "    if new_value:\n",
    "        data_store[key] = new_value\n",
    "        return jsonify({\"message\": \"Data updated successfully\"}), 200\n",
    "    return jsonify({\"error\": \"Invalid data\"}), 400\n",
    "\n",
    "@app.route('/data/<key>', methods=['DELETE'])\n",
    "def delete_data(key):\n",
    "    if key in data_store:\n",
    "        del data_store[key]\n",
    "        return jsonify({\"message\": \"Data deleted successfully\"}), 200\n",
    "    return jsonify({\"error\": \"Key not found\"}), 404\n",
    "\n",
    "if __name__ == '__main__':\n",
    "    app.run(debug=False)"
   ]
  },
  {
   "cell_type": "code",
   "execution_count": 38,
   "id": "e3166c26-fe9b-4160-94f9-2f654671e80b",
   "metadata": {},
   "outputs": [
    {
     "name": "stdout",
     "output_type": "stream",
     "text": [
      "name\n",
      "name\n",
      "None\n"
     ]
    }
   ],
   "source": [
    "a = { 'key':'name'}\n",
    "print(a['key'])\n",
    "# print(a['value'])  # KeyError: 'value\n",
    "print(a.get('value'))  # key가 없어도 정상 실행"
   ]
  },
  {
   "cell_type": "code",
   "execution_count": null,
   "id": "d4095339-a51c-4f9b-bbb0-a27049aa99a5",
   "metadata": {},
   "outputs": [],
   "source": []
  },
  {
   "cell_type": "code",
   "execution_count": null,
   "id": "14b26b0a-99d0-4e71-a68c-31ab987efc20",
   "metadata": {},
   "outputs": [],
   "source": [
    "a = { 'key':'name'}\n",
    "print(a['key'])\n",
    "# print(a['value'])  # KeyError: 'value\n",
    "print(a.get('value'))  # key가 없어도 정상 실행"
   ]
  },
  {
   "cell_type": "code",
   "execution_count": null,
   "id": "e7628279-0496-4935-b8a9-02aa08d486d7",
   "metadata": {},
   "outputs": [],
   "source": []
  }
 ],
 "metadata": {
  "kernelspec": {
   "display_name": "Python [conda env:base] *",
   "language": "python",
   "name": "conda-base-py"
  },
  "language_info": {
   "codemirror_mode": {
    "name": "ipython",
    "version": 3
   },
   "file_extension": ".py",
   "mimetype": "text/x-python",
   "name": "python",
   "nbconvert_exporter": "python",
   "pygments_lexer": "ipython3",
   "version": "3.12.7"
  }
 },
 "nbformat": 4,
 "nbformat_minor": 5
}
