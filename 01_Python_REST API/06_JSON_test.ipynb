{
 "cells": [
  {
   "cell_type": "markdown",
   "id": "cc33edac-b883-4cfe-8567-cc5723f7ef39",
   "metadata": {},
   "source": [
    "### JSON (JavaScript Object Notation)"
   ]
  },
  {
   "cell_type": "code",
   "execution_count": 3,
   "id": "d5f2d39a-5f00-4fb2-9701-12c0a39a851d",
   "metadata": {},
   "outputs": [
    {
     "name": "stdout",
     "output_type": "stream",
     "text": [
      "<class 'dict'>\n",
      "{\n",
      "    \"name\": \"Jane Doe\",\n",
      "    \"age\": 29,\n",
      "    \"email\": \"jane.doe@example.com\",\n",
      "    \"skills\": [\n",
      "        \"Python\",\n",
      "        \"Game Development\",\n",
      "        \"AI\"\n",
      "    ],\n",
      "    \"projects\": [\n",
      "        {\n",
      "            \"title\": \"AI Chatbot\",\n",
      "            \"year\": 2024,\n",
      "            \"technologies\": [\n",
      "                \"OpenAI API\",\n",
      "                \"Python\",\n",
      "                \"Bubble.io\"\n",
      "            ]\n",
      "        },\n",
      "        {\n",
      "            \"title\": \"Indie Game\",\n",
      "            \"year\": 2025,\n",
      "            \"technologies\": [\n",
      "                \"Unity\",\n",
      "                \"C#\",\n",
      "                \"Blender\"\n",
      "            ]\n",
      "        }\n",
      "    ]\n",
      "}\n"
     ]
    }
   ],
   "source": [
    "import json\n",
    "\n",
    "def read_json(file_path):\n",
    "    \"\"\"JSON 파일을 읽고 파싱하여 반환하는 함수\"\"\"\n",
    "    try:\n",
    "        with open(file_path, 'r', encoding='utf-8') as file:\n",
    "            data = json.load(file)  # JSON 데이터 파싱\n",
    "        return data\n",
    "    except FileNotFoundError:\n",
    "        print(f\"파일을 찾을 수 없습니다: {file_path}\")\n",
    "    except json.JSONDecodeError:\n",
    "        print(f\"JSON 파일 파싱 오류: {file_path}\")\n",
    "\n",
    "# 사용 예시\n",
    "file_path = \"data.json\"  # JSON 파일 경로\n",
    "json_data = read_json(file_path)\n",
    "\n",
    "print(type(json_data))  #class 'dict'\n",
    "\n",
    "if json_data:\n",
    "    print(json.dumps(json_data, indent=4, ensure_ascii=False))  # JSON 데이터 보기 좋게 출력"
   ]
  },
  {
   "cell_type": "code",
   "execution_count": 9,
   "id": "7f5d9e0a-b44c-4edc-9212-cce9db282428",
   "metadata": {},
   "outputs": [
    {
     "name": "stdout",
     "output_type": "stream",
     "text": [
      "{'name': 'Jane Doe', 'age': 29, 'email': 'jane.doe@example.com', 'skills': ['Python', 'Game Development', 'AI'], 'projects': [{'title': 'AI Chatbot', 'year': 2024, 'technologies': ['OpenAI API', 'Python', 'Bubble.io']}, {'title': 'Indie Game', 'year': 2025, 'technologies': ['Unity', 'C#', 'Blender']}]}\n",
      "Jane Doe\n",
      "29\n"
     ]
    }
   ],
   "source": [
    "print(json_data)\n",
    "print(json_data['name'])\n",
    "print(json_data['age'])"
   ]
  },
  {
   "cell_type": "code",
   "execution_count": 11,
   "id": "73b515b5-fba2-4829-ac9d-ae99da52cafd",
   "metadata": {},
   "outputs": [
    {
     "name": "stdout",
     "output_type": "stream",
     "text": [
      "[{'title': 'AI Chatbot', 'year': 2024, 'technologies': ['OpenAI API', 'Python', 'Bubble.io']}, {'title': 'Indie Game', 'year': 2025, 'technologies': ['Unity', 'C#', 'Blender']}]\n"
     ]
    }
   ],
   "source": [
    "print(json_data['projects'])"
   ]
  },
  {
   "cell_type": "code",
   "execution_count": 19,
   "id": "a4394d23-ace8-46b0-b176-ca1bc4a9d01c",
   "metadata": {},
   "outputs": [
    {
     "name": "stdout",
     "output_type": "stream",
     "text": [
      "AI\n"
     ]
    }
   ],
   "source": [
    "d = [{'title1':'AI'},{'title2':'Game'}]\n",
    "# d1 = d[0]\n",
    "# d1['title1']\n",
    "print(d[0]['title1'])"
   ]
  },
  {
   "cell_type": "code",
   "execution_count": 29,
   "id": "0874aef4-1e2a-4fe1-a489-964322a554f7",
   "metadata": {},
   "outputs": [
    {
     "name": "stdout",
     "output_type": "stream",
     "text": [
      "OpenAI API\n"
     ]
    }
   ],
   "source": [
    "# 'OpenAI API' 추출\n",
    "print(json_data['projects'][0]['technologies'][0])"
   ]
  },
  {
   "cell_type": "code",
   "execution_count": 43,
   "id": "87e2b2d9-be47-4325-a1c1-25c13a4714f2",
   "metadata": {},
   "outputs": [],
   "source": [
    "# 'C#' -> 'JAVA'로 변경\n",
    "json_data['projects'][1]['technologies'][1] = 'JAVA'"
   ]
  },
  {
   "cell_type": "code",
   "execution_count": 45,
   "id": "bb7e2c2a-e840-4397-848c-e9efb8203ee0",
   "metadata": {},
   "outputs": [
    {
     "name": "stdout",
     "output_type": "stream",
     "text": [
      "{'name': 'Jane Doe', 'age': 29, 'email': 'jane.doe@example.com', 'skills': ['Python', 'Game Development', 'AI'], 'projects': [{'title': 'AI Chatbot', 'year': 2024, 'technologies': ['OpenAI API', 'Python', 'Bubble.io']}, {'title': 'Indie Game', 'year': 2025, 'technologies': ['Unity', 'JAVA', 'Blender']}]}\n"
     ]
    }
   ],
   "source": [
    "print(json_data)"
   ]
  },
  {
   "cell_type": "code",
   "execution_count": 33,
   "id": "3a79e95d-fe34-4ade-b849-5fe4e164c331",
   "metadata": {},
   "outputs": [
    {
     "name": "stdout",
     "output_type": "stream",
     "text": [
      "{\n",
      "    \"name\": \"Jane Doe\",\n",
      "    \"age\": 29,\n",
      "    \"email\": \"jane.doe@example.com\",\n",
      "    \"skills\": [\n",
      "        \"Python\",\n",
      "        \"Game Development\",\n",
      "        \"AI\"\n",
      "    ],\n",
      "    \"projects\": [\n",
      "        {\n",
      "            \"title\": \"AI Chatbot\",\n",
      "            \"year\": 2024,\n",
      "            \"technologies\": [\n",
      "                \"OpenAI API\",\n",
      "                \"Python\",\n",
      "                \"Bubble.io\"\n",
      "            ]\n",
      "        },\n",
      "        {\n",
      "            \"title\": \"Indie Game\",\n",
      "            \"year\": 2025,\n",
      "            \"technologies\": [\n",
      "                \"Unity\",\n",
      "                \"C#\",\n",
      "                \"Blender\"\n",
      "            ]\n",
      "        }\n",
      "    ]\n",
      "}\n"
     ]
    }
   ],
   "source": [
    "if json_data:\n",
    "    print(json.dumps(json_data, indent=4, ensure_ascii=False))  # JSON 데이터 보기 좋게 출력"
   ]
  },
  {
   "cell_type": "code",
   "execution_count": null,
   "id": "034fae72-968d-46d5-bc43-4cb76c91d8b3",
   "metadata": {},
   "outputs": [],
   "source": []
  }
 ],
 "metadata": {
  "kernelspec": {
   "display_name": "Python [conda env:base] *",
   "language": "python",
   "name": "conda-base-py"
  },
  "language_info": {
   "codemirror_mode": {
    "name": "ipython",
    "version": 3
   },
   "file_extension": ".py",
   "mimetype": "text/x-python",
   "name": "python",
   "nbconvert_exporter": "python",
   "pygments_lexer": "ipython3",
   "version": "3.12.7"
  }
 },
 "nbformat": 4,
 "nbformat_minor": 5
}
