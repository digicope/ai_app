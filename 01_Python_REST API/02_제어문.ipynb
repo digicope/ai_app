{
 "cells": [
  {
   "cell_type": "markdown",
   "id": "a7c6a212-6f3e-49af-be50-871088f39a8b",
   "metadata": {},
   "source": [
    "### 02_제어문 : if문, for 문, while문, with ~ as 문"
   ]
  },
  {
   "cell_type": "markdown",
   "id": "b35c6371-50c8-4d26-99a5-8f8d414423ca",
   "metadata": {},
   "source": [
    "### if문"
   ]
  },
  {
   "cell_type": "code",
   "execution_count": 6,
   "id": "1d943875-45e2-4191-89e6-814e831f4a3f",
   "metadata": {},
   "outputs": [
    {
     "name": "stdout",
     "output_type": "stream",
     "text": [
      "a = 10\n",
      "------\n"
     ]
    }
   ],
   "source": [
    "a = 15\n",
    "\n",
    "if a == 10:\n",
    "    print('a = 10')\n",
    "    print('------')\n",
    "else:\n",
    "    print(a)\n",
    "    print('++++++')  "
   ]
  },
  {
   "cell_type": "code",
   "execution_count": 20,
   "id": "33788a70-054a-4f35-8290-cb0d5ba77319",
   "metadata": {},
   "outputs": [
    {
     "name": "stdout",
     "output_type": "stream",
     "text": [
      "order price: 5000\n"
     ]
    }
   ],
   "source": [
    "order = 'spagetti'\n",
    "\n",
    "if order == 'spagetti':\n",
    "    price = 5000\n",
    "elif order == 'spam':\n",
    "    price = 6000\n",
    "elif order =='egg':\n",
    "    price = 7000\n",
    "else:\n",
    "    price= 0\n",
    "\n",
    "print('order price: %d'%price)  "
   ]
  },
  {
   "cell_type": "code",
   "execution_count": 30,
   "id": "f078d95f-d4d2-48ba-8b19-83a7102d73e2",
   "metadata": {},
   "outputs": [
    {
     "name": "stdout",
     "output_type": "stream",
     "text": [
      "order price: 5000\n",
      "order price: 11000\n"
     ]
    }
   ],
   "source": [
    "# dict사용\n",
    "order = {'spagetti':5000, 'spam':6000, 'egg':7000}\n",
    "print('order price: %d'%order['spagetti']) \n",
    "print('order price: %d'%(order['spagetti']+ order['spam']))"
   ]
  },
  {
   "cell_type": "code",
   "execution_count": 36,
   "id": "6279f03c-0409-4515-9bff-586e475f8c98",
   "metadata": {},
   "outputs": [
    {
     "name": "stdout",
     "output_type": "stream",
     "text": [
      "2.0\n"
     ]
    }
   ],
   "source": [
    "# 전통 언어 스타일\n",
    "a = 10\n",
    "if a > 5:\n",
    "    x = a * 2\n",
    "else:\n",
    "    x = a / 2\n",
    "print(x)"
   ]
  },
  {
   "cell_type": "code",
   "execution_count": 38,
   "id": "fb217912-664e-4c33-87f8-f0fd69180531",
   "metadata": {},
   "outputs": [
    {
     "name": "stdout",
     "output_type": "stream",
     "text": [
      "20\n"
     ]
    }
   ],
   "source": [
    "# 파이썬 스타일\n",
    "a = 10\n",
    "x = a * 2 if a > 5 else a / 2\n",
    "print(x)"
   ]
  },
  {
   "cell_type": "code",
   "execution_count": 40,
   "id": "b07c41d6-001a-4314-a2d6-3eec6c7c1712",
   "metadata": {},
   "outputs": [
    {
     "name": "stdout",
     "output_type": "stream",
     "text": [
      "20\n"
     ]
    }
   ],
   "source": [
    "# 파이썬 스타일\n",
    "a = 10\n",
    "t = (a/2,a*2)\n",
    "x = t[a > 5]   # True:1, False:0  , 조건식을 사용한 index\n",
    "print(x)"
   ]
  },
  {
   "cell_type": "code",
   "execution_count": 42,
   "id": "1d680b75-5348-439f-9e64-aa2ba7517bb4",
   "metadata": {},
   "outputs": [
    {
     "name": "stdout",
     "output_type": "stream",
     "text": [
      "20\n"
     ]
    }
   ],
   "source": [
    "# 파이썬 스타일\n",
    "a = 10\n",
    "x = (a/2,a*2)[a > 5]   # True:1, False:0  , 조건식을 사용한 index\n",
    "print(x)"
   ]
  },
  {
   "cell_type": "markdown",
   "id": "b93b171a-2e21-429e-885a-29cbf56752eb",
   "metadata": {},
   "source": [
    "### for문"
   ]
  },
  {
   "cell_type": "code",
   "execution_count": 61,
   "id": "09035803-cb4f-4aa0-9c89-29f91cd758e3",
   "metadata": {},
   "outputs": [
    {
     "name": "stdout",
     "output_type": "stream",
     "text": [
      "0\n",
      "1\n",
      "2\n",
      "3\n",
      "4\n",
      "5\n",
      "6\n",
      "7\n",
      "8\n",
      "9\n",
      "--------------------\n",
      "0\n",
      "1\n",
      "2\n",
      "3\n",
      "4\n",
      "5\n",
      "6\n",
      "7\n",
      "8\n",
      "9\n",
      "10\n"
     ]
    }
   ],
   "source": [
    "for k in range(10):  # 10회 반복\n",
    "    print(k)\n",
    "\n",
    "print('-'*20)\n",
    "\n",
    "l = [0,1,2,3,4,5,6,7,8,9]\n",
    "for k in l:\n",
    "    print(k)"
   ]
  },
  {
   "cell_type": "code",
   "execution_count": 73,
   "id": "bd45f108-f6d6-42f0-99bb-4c08933d1a96",
   "metadata": {},
   "outputs": [
    {
     "name": "stdout",
     "output_type": "stream",
     "text": [
      "total: 5050\n"
     ]
    }
   ],
   "source": [
    "# 1 ~ 100 까지 합을 구하는 프로그램 : for문 사용\n",
    "# print(sum(range(1,101)))\n",
    "\n",
    "total = 0\n",
    "for k in range(1,101):\n",
    "    total = total + k\n",
    "    # print(k,total)\n",
    "print('total:',total)"
   ]
  },
  {
   "cell_type": "code",
   "execution_count": 77,
   "id": "c2162a04-fb8a-4e00-8c35-74e2410d5f9e",
   "metadata": {},
   "outputs": [
    {
     "name": "stdout",
     "output_type": "stream",
     "text": [
      "2 * 1 = 2\n",
      "2 * 2 = 4\n",
      "2 * 3 = 6\n",
      "2 * 4 = 8\n",
      "2 * 5 = 10\n",
      "2 * 6 = 12\n",
      "2 * 7 = 14\n",
      "2 * 8 = 16\n",
      "2 * 9 = 18\n",
      "--------------------\n",
      "3 * 1 = 3\n",
      "3 * 2 = 6\n",
      "3 * 3 = 9\n",
      "3 * 4 = 12\n",
      "3 * 5 = 15\n",
      "3 * 6 = 18\n",
      "3 * 7 = 21\n",
      "3 * 8 = 24\n",
      "3 * 9 = 27\n",
      "--------------------\n",
      "4 * 1 = 4\n",
      "4 * 2 = 8\n",
      "4 * 3 = 12\n",
      "4 * 4 = 16\n",
      "4 * 5 = 20\n",
      "4 * 6 = 24\n",
      "4 * 7 = 28\n",
      "4 * 8 = 32\n",
      "4 * 9 = 36\n",
      "--------------------\n",
      "5 * 1 = 5\n",
      "5 * 2 = 10\n",
      "5 * 3 = 15\n",
      "5 * 4 = 20\n",
      "5 * 5 = 25\n",
      "5 * 6 = 30\n",
      "5 * 7 = 35\n",
      "5 * 8 = 40\n",
      "5 * 9 = 45\n",
      "--------------------\n",
      "6 * 1 = 6\n",
      "6 * 2 = 12\n",
      "6 * 3 = 18\n",
      "6 * 4 = 24\n",
      "6 * 5 = 30\n",
      "6 * 6 = 36\n",
      "6 * 7 = 42\n",
      "6 * 8 = 48\n",
      "6 * 9 = 54\n",
      "--------------------\n",
      "7 * 1 = 7\n",
      "7 * 2 = 14\n",
      "7 * 3 = 21\n",
      "7 * 4 = 28\n",
      "7 * 5 = 35\n",
      "7 * 6 = 42\n",
      "7 * 7 = 49\n",
      "7 * 8 = 56\n",
      "7 * 9 = 63\n",
      "--------------------\n",
      "8 * 1 = 8\n",
      "8 * 2 = 16\n",
      "8 * 3 = 24\n",
      "8 * 4 = 32\n",
      "8 * 5 = 40\n",
      "8 * 6 = 48\n",
      "8 * 7 = 56\n",
      "8 * 8 = 64\n",
      "8 * 9 = 72\n",
      "--------------------\n",
      "9 * 1 = 9\n",
      "9 * 2 = 18\n",
      "9 * 3 = 27\n",
      "9 * 4 = 36\n",
      "9 * 5 = 45\n",
      "9 * 6 = 54\n",
      "9 * 7 = 63\n",
      "9 * 8 = 72\n",
      "9 * 9 = 81\n",
      "--------------------\n"
     ]
    }
   ],
   "source": [
    "# 중첩된 for 문\n",
    "for x in range(2,9):\n",
    "    for y in range(1,10):\n",
    "        print(x,'*',y,'=',x*y)\n",
    "    print('-'*20)"
   ]
  },
  {
   "cell_type": "code",
   "execution_count": 79,
   "id": "fa7c73cc-41fd-4239-8d7d-a6f3c4edef2e",
   "metadata": {},
   "outputs": [
    {
     "name": "stdout",
     "output_type": "stream",
     "text": [
      "[(2, 1, 2), (2, 2, 4), (2, 3, 6), (2, 4, 8), (2, 5, 10), (2, 6, 12), (2, 7, 14), (2, 8, 16), (2, 9, 18), (3, 1, 3), (3, 2, 6), (3, 3, 9), (3, 4, 12), (3, 5, 15), (3, 6, 18), (3, 7, 21), (3, 8, 24), (3, 9, 27)]\n"
     ]
    }
   ],
   "source": [
    "# 중첩된 for문을 사용한 list comprehension\n",
    "a = [(x,y,x*y) for x in range(2,4) for y in range(1,10)]\n",
    "print(a)"
   ]
  },
  {
   "cell_type": "code",
   "execution_count": 81,
   "id": "02b8f83e-f2f0-4b15-a3fc-d4747c3c4de5",
   "metadata": {},
   "outputs": [
    {
     "name": "stdout",
     "output_type": "stream",
     "text": [
      "{(2, 1): 2, (2, 2): 4, (2, 3): 6, (2, 4): 8, (2, 5): 10, (2, 6): 12, (2, 7): 14, (2, 8): 16, (2, 9): 18, (3, 1): 3, (3, 2): 6, (3, 3): 9, (3, 4): 12, (3, 5): 15, (3, 6): 18, (3, 7): 21, (3, 8): 24, (3, 9): 27}\n"
     ]
    }
   ],
   "source": [
    "# 중첩된 for문을 사용한 dict comprehension\n",
    "a = {(x,y):x*y for x in range(2,4) for y in range(1,10)}\n",
    "print(a)"
   ]
  },
  {
   "cell_type": "code",
   "execution_count": 87,
   "id": "df05913c-b30c-4c3d-967f-6b7083d658bf",
   "metadata": {},
   "outputs": [
    {
     "name": "stdout",
     "output_type": "stream",
     "text": [
      "{(3, 2, 6), (2, 9, 18), (2, 4, 8), (2, 3, 6), (3, 1, 3), (3, 4, 12), (3, 5, 15), (2, 7, 14), (2, 6, 12), (3, 8, 24), (2, 2, 4), (2, 1, 2), (2, 5, 10), (3, 3, 9), (3, 6, 18), (3, 9, 27), (3, 7, 21), (2, 8, 16)}\n"
     ]
    }
   ],
   "source": [
    "# 중첩된 for문을 사용한 set comprehension\n",
    "a = {(x,y,x*y) for x in range(2,4) for y in range(1,10)}\n",
    "print(a)"
   ]
  },
  {
   "cell_type": "markdown",
   "id": "dbf48ec3-eb8b-4f19-a091-9c43f7525610",
   "metadata": {},
   "source": [
    "### while문"
   ]
  },
  {
   "cell_type": "code",
   "execution_count": 3,
   "id": "17bf27b4-74a7-43ea-b07c-58c53b9534b1",
   "metadata": {},
   "outputs": [
    {
     "name": "stdin",
     "output_type": "stream",
     "text": [
      " \n"
     ]
    },
    {
     "name": "stdout",
     "output_type": "stream",
     "text": [
      "0\n"
     ]
    },
    {
     "name": "stdin",
     "output_type": "stream",
     "text": [
      " \n"
     ]
    },
    {
     "name": "stdout",
     "output_type": "stream",
     "text": [
      "1\n"
     ]
    },
    {
     "name": "stdin",
     "output_type": "stream",
     "text": [
      " \n"
     ]
    },
    {
     "name": "stdout",
     "output_type": "stream",
     "text": [
      "2\n"
     ]
    },
    {
     "name": "stdin",
     "output_type": "stream",
     "text": [
      " \n"
     ]
    },
    {
     "name": "stdout",
     "output_type": "stream",
     "text": [
      "3\n"
     ]
    },
    {
     "name": "stdin",
     "output_type": "stream",
     "text": [
      " \n"
     ]
    },
    {
     "name": "stdout",
     "output_type": "stream",
     "text": [
      "4\n"
     ]
    },
    {
     "name": "stdin",
     "output_type": "stream",
     "text": [
      " \n"
     ]
    },
    {
     "name": "stdout",
     "output_type": "stream",
     "text": [
      "5\n"
     ]
    },
    {
     "name": "stdin",
     "output_type": "stream",
     "text": [
      " \n"
     ]
    },
    {
     "name": "stdout",
     "output_type": "stream",
     "text": [
      "6\n"
     ]
    },
    {
     "name": "stdin",
     "output_type": "stream",
     "text": [
      " \n"
     ]
    },
    {
     "name": "stdout",
     "output_type": "stream",
     "text": [
      "7\n"
     ]
    },
    {
     "name": "stdin",
     "output_type": "stream",
     "text": [
      " \n"
     ]
    },
    {
     "name": "stdout",
     "output_type": "stream",
     "text": [
      "8\n"
     ]
    },
    {
     "name": "stdin",
     "output_type": "stream",
     "text": [
      " \n"
     ]
    },
    {
     "name": "stdout",
     "output_type": "stream",
     "text": [
      "9\n"
     ]
    }
   ],
   "source": [
    "a = 0\n",
    "while True:       # 무한 루프\n",
    "    # input()     # 코드 흐름 디버깅용\n",
    "    print(a)\n",
    "    a += 1   # a = a + 1\n",
    "    if a == 10 :  # a가 10이면 무한 루프 탈출\n",
    "        break"
   ]
  },
  {
   "cell_type": "code",
   "execution_count": 5,
   "id": "ff9b77d4-caa5-4ace-91fa-7e28958f1cab",
   "metadata": {},
   "outputs": [
    {
     "name": "stdout",
     "output_type": "stream",
     "text": [
      "10\n",
      "11\n",
      "12\n",
      "13\n",
      "14\n",
      "15\n",
      "16\n",
      "17\n",
      "18\n",
      "19\n",
      "20\n"
     ]
    }
   ],
   "source": [
    "a = 0\n",
    "while True:      # 무한 루프\n",
    "    a += 1\n",
    "    \n",
    "    if a < 10:   # a < 10이면 continue\n",
    "        continue\n",
    "    \n",
    "    print(a)\n",
    "    \n",
    "    if a == 20:  # a가 20이면 무한 루프 탈출\n",
    "        break   "
   ]
  },
  {
   "cell_type": "code",
   "execution_count": 12,
   "id": "6d79f099-545d-4783-9ced-ae06ad0780b6",
   "metadata": {},
   "outputs": [
    {
     "name": "stdout",
     "output_type": "stream",
     "text": [
      "0\n",
      "1\n",
      "2\n",
      "3\n",
      "4\n",
      "5\n",
      "6\n",
      "7\n",
      "8\n",
      "9\n"
     ]
    }
   ],
   "source": [
    "a = 0\n",
    "while a < 10:    # 조건식이 참일 때만 반복한다\n",
    "    # input()\n",
    "    print(a)\n",
    "    a += 1   "
   ]
  },
  {
   "cell_type": "code",
   "execution_count": null,
   "id": "37619ac9-391e-4613-a9fe-f9102dde927b",
   "metadata": {},
   "outputs": [],
   "source": []
  },
  {
   "cell_type": "code",
   "execution_count": null,
   "id": "1218e00d-7c8f-4196-8bb1-c428eef2303c",
   "metadata": {},
   "outputs": [],
   "source": []
  }
 ],
 "metadata": {
  "kernelspec": {
   "display_name": "Python [conda env:base] *",
   "language": "python",
   "name": "conda-base-py"
  },
  "language_info": {
   "codemirror_mode": {
    "name": "ipython",
    "version": 3
   },
   "file_extension": ".py",
   "mimetype": "text/x-python",
   "name": "python",
   "nbconvert_exporter": "python",
   "pygments_lexer": "ipython3",
   "version": "3.12.7"
  }
 },
 "nbformat": 4,
 "nbformat_minor": 5
}
