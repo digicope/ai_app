{
 "cells": [
  {
   "cell_type": "markdown",
   "id": "a1ad9c8c-dca9-44ae-ade6-0d40e92d6b61",
   "metadata": {},
   "source": [
    "### 모듈\n",
    "#### : 함수나 변수 또는 클래스를 모아놓은 소스 파일, xxx.py"
   ]
  },
  {
   "cell_type": "code",
   "execution_count": 13,
   "id": "1819e674-78bf-487b-accf-de35f80cd164",
   "metadata": {},
   "outputs": [],
   "source": [
    "# 함수 정의\n",
    "# def add(a,b):\n",
    "#     c = a + b\n",
    "#     print('add called!')\n",
    "#     return c\n",
    "\n",
    "# def subtract(a,b):\n",
    "#     c = a - b\n",
    "#     print('subtract called!')\n",
    "#     return c\n",
    "\n",
    "# def multiply(a,b):\n",
    "#     c = a * b\n",
    "#     print('multiply called!')\n",
    "#     return c\n",
    "\n",
    "# def divide(a,b):\n",
    "#     c = a / b\n",
    "#     print('divide called!')\n",
    "#     return c\n",
    "\n",
    "# if __name__ == '__main__':\n",
    "#     ret = add(10,20)\n",
    "#     print(ret)"
   ]
  },
  {
   "cell_type": "code",
   "execution_count": 1,
   "id": "2ddd78cc-e078-4f8a-b044-7a47f570ffd8",
   "metadata": {},
   "outputs": [
    {
     "name": "stdout",
     "output_type": "stream",
     "text": [
      "calculator: calculator\n",
      "__main__: __main__\n",
      "add called!\n",
      "30\n",
      "subtract called!\n",
      "-10\n"
     ]
    }
   ],
   "source": [
    "# 외부 모듈을 import  : 함수로 구현된 모듈을 import\n",
    "# import calculator\n",
    "# calculator.add(10,20)\n",
    "\n",
    "import calculator as cl\n",
    "\n",
    "print('__main__:',__name__)\n",
    "\n",
    "if __name__ == '__main__':\n",
    "    ret = cl.add(10,20)\n",
    "    print(ret)\n",
    "    \n",
    "    ret = cl.subtract(10,20)\n",
    "    print(ret)"
   ]
  },
  {
   "cell_type": "code",
   "execution_count": 3,
   "id": "3b14e878-db25-4b26-828e-635f40afbc96",
   "metadata": {},
   "outputs": [],
   "source": [
    "# first.py (import second),  second.py ,   third.py\n",
    "# >> Python first.py     # __name__ 은 '__main__' , second.py의 __name__은 'second'\n",
    "# >> Python second.py    # second.py의 __name__은 '__main__'"
   ]
  },
  {
   "cell_type": "code",
   "execution_count": 7,
   "id": "b52cf0bc-4476-44e7-a5ef-adc91f1292c7",
   "metadata": {},
   "outputs": [],
   "source": [
    "import numpy as np\n",
    "import pandas as pd\n",
    "# import tensorflow as tf\n",
    "\n",
    "# 파이썬 외부 모듈(라이브러리) 설치 경로\n",
    "# C:\\Users\\사용자계정명\\Anaconda3\\Lib\\site-packages\n",
    "# C:\\ProgramData\\Anaconda3\\Lib\\site-packages\n",
    "# >> pip install tensorflow"
   ]
  },
  {
   "cell_type": "code",
   "execution_count": 9,
   "id": "da81de8d-51d0-4174-8477-a27e45699168",
   "metadata": {},
   "outputs": [
    {
     "name": "stdout",
     "output_type": "stream",
     "text": [
      "add called!\n"
     ]
    },
    {
     "data": {
      "text/plain": [
       "30"
      ]
     },
     "execution_count": 9,
     "metadata": {},
     "output_type": "execute_result"
    }
   ],
   "source": [
    "# 패키지나 모듈에서 일부 함수나 클래스를 가져오는 경우 \n",
    "from calculator import add             # add 하나만 import\n",
    "from calculator import add, subtract   # 두개만 import\n",
    "from calculator import *               # 모두 import\n",
    "add(10,20)    # 모듈이름을 사용하지 않고 바로 접근 가능하다"
   ]
  },
  {
   "cell_type": "code",
   "execution_count": null,
   "id": "6d5943aa-bc83-4546-9690-f3bc907ad3d0",
   "metadata": {},
   "outputs": [],
   "source": []
  }
 ],
 "metadata": {
  "kernelspec": {
   "display_name": "Python [conda env:base] *",
   "language": "python",
   "name": "conda-base-py"
  },
  "language_info": {
   "codemirror_mode": {
    "name": "ipython",
    "version": 3
   },
   "file_extension": ".py",
   "mimetype": "text/x-python",
   "name": "python",
   "nbconvert_exporter": "python",
   "pygments_lexer": "ipython3",
   "version": "3.12.7"
  }
 },
 "nbformat": 4,
 "nbformat_minor": 5
}
