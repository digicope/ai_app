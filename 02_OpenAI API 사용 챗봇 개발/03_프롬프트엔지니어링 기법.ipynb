{
 "cells": [
  {
   "cell_type": "markdown",
   "id": "98a5d8b6-2e1f-4581-95be-dbca109e2e89",
   "metadata": {},
   "source": [
    "# 프롬프트 엔지니어링 기법\n",
    "https://www.promptingguide.ai/kr/techniques"
   ]
  },
  {
   "cell_type": "code",
   "execution_count": 15,
   "id": "3ca58459-cbda-4bdb-8bd0-c16614a73fcf",
   "metadata": {},
   "outputs": [],
   "source": [
    "from dotenv import load_dotenv\n",
    "import os\n",
    "\n",
    "# .env 파일의 내용을 환경 변수로 불러오기\n",
    "load_dotenv(\"C:/env/.env\")\n",
    "\n",
    "# 환경 변수 가져오기\n",
    "API_KEY = os.getenv(\"OPENAI_API_KEY\")\n",
    "\n",
    "from openai import OpenAI\n",
    "client = OpenAI(api_key=API_KEY)"
   ]
  },
  {
   "cell_type": "markdown",
   "id": "d63cf461-e5ff-4b59-8421-34b379020b12",
   "metadata": {},
   "source": [
    "### Zero-shot Prompting\n",
    ": 예시가 주어지지 않음"
   ]
  },
  {
   "cell_type": "code",
   "execution_count": 39,
   "id": "7886f3b2-904f-42da-bc45-58a0c789a464",
   "metadata": {},
   "outputs": [
    {
     "name": "stdout",
     "output_type": "stream",
     "text": [
      "'Hello, how are you?'는 프랑스어로 'Bonjour, comment ça va ?'입니다.\n"
     ]
    }
   ],
   "source": [
    "prompt = '''\n",
    "다음 영어 문장을 불어로 번역해줘 :\n",
    "'Hello, how are you?'\n",
    "'''\n",
    "completion = client.chat.completions.create(\n",
    "    model = \"gpt-4o-mini\",\n",
    "    temperature = 0.2,\n",
    "    messages = [\n",
    "        { \"role\" : \"user\",\n",
    "          \"content\" : prompt }\n",
    "    ]\n",
    ")\n",
    "\n",
    "print(completion.choices[0].message.content)"
   ]
  },
  {
   "cell_type": "markdown",
   "id": "10fa5f77-848d-4ce1-8ee2-26d822fdb161",
   "metadata": {},
   "source": [
    "### Few-shot Prompting \n",
    ": 몇 개의 예시를 제공 , 한 개의 예시가 주어지는 경우 --> One-shot"
   ]
  },
  {
   "cell_type": "code",
   "execution_count": 44,
   "id": "7160dba8-3a97-4b7f-89cd-95281e4f9680",
   "metadata": {},
   "outputs": [
    {
     "name": "stdout",
     "output_type": "stream",
     "text": [
      "French: 'Bonjour, Mademoiselle'\n"
     ]
    }
   ],
   "source": [
    "prompt = '''\n",
    "English : 'Hello, how are you?'\n",
    "French : 'Bonjour, comment ça va ?'\n",
    "\n",
    "English: 'What is your name?'\n",
    "French: 'Comment vous appelez-vous?'\n",
    "\n",
    "English : 'Hello, Miss'\n",
    "French :\n",
    "'''\n",
    "completion = client.chat.completions.create(\n",
    "    model = \"gpt-4o-mini\",\n",
    "    temperature = 0.2,\n",
    "    messages = [\n",
    "        { \"role\" : \"user\",\n",
    "          \"content\" : prompt }\n",
    "    ]\n",
    ")\n",
    "\n",
    "print(completion.choices[0].message.content)\n",
    "# 지시가 없어도 예시만 보고 불어로 번역해준다"
   ]
  },
  {
   "cell_type": "code",
   "execution_count": 56,
   "id": "7d25f1a0-cfa0-4bf3-a0dc-a10091db85d0",
   "metadata": {},
   "outputs": [
    {
     "name": "stdout",
     "output_type": "stream",
     "text": [
      "질문: 내내 하품만 나옴  \n",
      "답변: 부정 평가\n",
      "\n",
      "질문: 핵 꿀잼~  \n",
      "답변: 긍정 평가\n"
     ]
    }
   ],
   "source": [
    "prompt = \"\"\"\n",
    "아래 예시를 참조해서 알맞은 답변해줘\n",
    "\n",
    "질문: 이 영화 너무 재미 없어!!'\n",
    "답변: 부정 평가\n",
    "\n",
    "질문: 이 영화 돈이 안 아까와..'\n",
    "답변: 긍정 평가\n",
    "\n",
    "질문: 시간만 버렸어~'\n",
    "답변: 부정 평가\n",
    "\n",
    "질문: 내내 하품만 나옴'\n",
    "답변: \n",
    "\n",
    "질문: 핵 꿀잼~'\n",
    "답변: \n",
    "\"\"\"\n",
    "completion = client.chat.completions.create(\n",
    "    model = \"gpt-4o-mini\",\n",
    "    temperature = 0.2,\n",
    "    messages = [\n",
    "        { \"role\" : \"user\",\n",
    "          \"content\" : prompt }\n",
    "    ]\n",
    ")\n",
    "\n",
    "print(completion.choices[0].message.content)"
   ]
  },
  {
   "cell_type": "markdown",
   "id": "72a1a07d-3409-4965-beb5-c248b8807afa",
   "metadata": {},
   "source": [
    "### CoT(Chain-of-Thought) Prompting"
   ]
  },
  {
   "cell_type": "code",
   "execution_count": 78,
   "id": "e90a9865-ecce-4e6c-8fdf-b6fb2045d5ec",
   "metadata": {},
   "outputs": [
    {
     "name": "stdout",
     "output_type": "stream",
     "text": [
      "철수는 현재 11개의 사과를 가지고 있습니다. 처음에는 10개의 사과를 가졌고, 그저께와 어제 각각 2개씩 먹어서 6개가 줄었으며, 어머니께서 5개를 더 사다 주셨기 때문에 11개가 되었습니다. 이후 친구에게 2개를 주었기 때문에 현재 11개의 사과를 가지고 있습니다.\n"
     ]
    }
   ],
   "source": [
    "prompt = \"\"\"\n",
    "철수에게는 사과가 10개 있었습니다 그저께 부터 오늘까지 매일 아침에 2개씩 먹었습니다\n",
    "오늘 점심에 어머니께서 사과 5개를 더 사다 주셨습니다 오늘 저녁에 친구에게 2개를 주었습니다\n",
    "철수는 총 몇 개의 사과를 가지고 있을까요?\n",
    "\"\"\"\n",
    "completion = client.chat.completions.create(\n",
    "    model = \"gpt-3.5-turbo\",\n",
    "    temperature = 0,\n",
    "    messages = [\n",
    "        { \"role\" : \"user\",\n",
    "          \"content\" : prompt }\n",
    "    ]\n",
    ")\n",
    "\n",
    "print(completion.choices[0].message.content)  # 11개,9개,5개 .. : 틀린 답변이 자주 나옴"
   ]
  },
  {
   "cell_type": "code",
   "execution_count": 70,
   "id": "ca31c83f-ca4f-4f83-a0cf-2be7615bb2ff",
   "metadata": {},
   "outputs": [
    {
     "name": "stdout",
     "output_type": "stream",
     "text": [
      "철수의 사과 개수를 계산해 보겠습니다.\n",
      "\n",
      "1. 철수는 처음에 사과가 10개 있었습니다.\n",
      "2. 그저께부터 오늘까지 매일 아침에 2개씩 먹었습니다. 오늘은 3일째이므로:\n",
      "   - 2개 × 3일 = 6개를 먹었습니다.\n",
      "3. 따라서 오늘 아침까지 남은 사과는:\n",
      "   - 10개 - 6개 = 4개입니다.\n",
      "4. 오늘 점심에 어머니께서 사과 5개를 더 사다 주셨으므로:\n",
      "   - 4개 + 5개 = 9개입니다.\n",
      "5. 오늘 저녁에 친구에게 2개를 주었으므로:\n",
      "   - 9개 - 2개 = 7개입니다.\n",
      "\n",
      "결론적으로, 철수는 오늘 저녁에 총 7개의 사과를 가지고 있습니다.\n"
     ]
    }
   ],
   "source": [
    "completion = client.chat.completions.create(\n",
    "    model = \"gpt-4o-mini\",\n",
    "    temperature = 0,\n",
    "    messages = [\n",
    "        { \"role\" : \"user\",\n",
    "          \"content\" : prompt }\n",
    "    ]\n",
    ")\n",
    "\n",
    "print(completion.choices[0].message.content)   # 7개 : 정답"
   ]
  },
  {
   "cell_type": "code",
   "execution_count": 74,
   "id": "c46729c2-dcc9-456e-ba40-be2a5d79a06d",
   "metadata": {},
   "outputs": [
    {
     "name": "stdout",
     "output_type": "stream",
     "text": [
      "1. 처음에 가지고 있던 사과의 개수: 10개\n",
      "2. 매일 아침에 먹은 사과의 개수: 2개 * 3일 = 6개\n",
      "3. 어머니가 사다준 사과의 개수: 5개\n",
      "4. 친구에게 준 사과의 개수: 2개\n",
      "\n",
      "따라서, 철수가 현재 가지고 있는 사과의 개수는\n",
      "10개 (처음에 가지고 있던 개수) - 6개 (아침에 먹은 개수) + 5개 (어머니가 사다준 개수) - 2개 (친구에게 준 개수) = 7개\n",
      "\n",
      "철수는 현재 7개의 사과를 가지고 있습니다.\n"
     ]
    }
   ],
   "source": [
    "prompt = \"\"\"\n",
    "철수에게는 사과가 10개 있었습니다 그저께 부터 오늘까지 매일 아침에 2개씩 먹었습니다\n",
    "오늘 점심에 어머니께서 사과 5개를 더 사다 주셨습니다 오늘 저녁에 친구에게 2개를 주었습니다\n",
    "철수는 총 몇 개의 사과를 가지고 있을까요? 단계별로 분리해서 생각해 보세요\n",
    "\"\"\"\n",
    "completion = client.chat.completions.create(\n",
    "    model = \"gpt-3.5-turbo\",\n",
    "    temperature = 0,\n",
    "    messages = [\n",
    "        { \"role\" : \"user\",\n",
    "          \"content\" : prompt }\n",
    "    ]\n",
    ")\n",
    "\n",
    "print(completion.choices[0].message.content)"
   ]
  },
  {
   "cell_type": "code",
   "execution_count": 80,
   "id": "2e94d722-5ce4-4e47-85f1-6c81fef79621",
   "metadata": {},
   "outputs": [
    {
     "name": "stdout",
     "output_type": "stream",
     "text": [
      "철수는 현재 7개의 사과를 가지고 있습니다. 처음에 10개의 사과가 있었고, 6개를 먹었으며, 5개를 추가로 받았지만 2개를 친구에게 주었기 때문에 7개가 남게 됩니다.\n"
     ]
    }
   ],
   "source": [
    "prompt = \"\"\"\n",
    "1. 철수에게는 사과가 10개 있었습니다.\n",
    "2. 그저께부터 오늘까지 매일 아침에 2개씩 먹었습니다.\n",
    "   (3일 동안 2개씩 먹어서 2 * 3 = 6개의 사과를 먹었습니다.)\n",
    "3. 오늘 점심에 어머니께서 사과 5개를 더 사다 주셨습니다.\n",
    "4. 오늘 저녁에 친구에게 2개를 주었습니다.\n",
    "철수는 총 몇 개의 사과를 가지고 있을까요?\n",
    "\"\"\"\n",
    "completion = client.chat.completions.create(\n",
    "    model = \"gpt-3.5-turbo\",\n",
    "    temperature = 0,\n",
    "    messages = [\n",
    "        { \"role\" : \"user\",\n",
    "          \"content\" : prompt }\n",
    "    ]\n",
    ")\n",
    "\n",
    "print(completion.choices[0].message.content) # 7개 : 정답"
   ]
  },
  {
   "cell_type": "code",
   "execution_count": null,
   "id": "70bf1151-71e7-46ea-8927-46dd5eab3968",
   "metadata": {},
   "outputs": [],
   "source": []
  }
 ],
 "metadata": {
  "kernelspec": {
   "display_name": "Python [conda env:base] *",
   "language": "python",
   "name": "conda-base-py"
  },
  "language_info": {
   "codemirror_mode": {
    "name": "ipython",
    "version": 3
   },
   "file_extension": ".py",
   "mimetype": "text/x-python",
   "name": "python",
   "nbconvert_exporter": "python",
   "pygments_lexer": "ipython3",
   "version": "3.12.7"
  }
 },
 "nbformat": 4,
 "nbformat_minor": 5
}
