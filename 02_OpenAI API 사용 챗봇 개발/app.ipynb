{
 "cells": [
  {
   "cell_type": "markdown",
   "id": "e61cba76-1307-4ea1-a0d2-0f437896aaa6",
   "metadata": {},
   "source": [
    "# OpenAI API 사용 고객 서비스 챗봇 만들기"
   ]
  },
  {
   "cell_type": "code",
   "execution_count": 2,
   "id": "9d9e4183-6cb3-4cd6-84bb-4bd9b8cfc78c",
   "metadata": {},
   "outputs": [],
   "source": [
    "# 터미널에서 실행시\n",
    "# python -m venv venv\n",
    "# source venv/bin/activate  # 윈도우는 venv\\Scripts\\activate\n",
    "# pip install -r requirements.txt\n",
    "# python app.py\n",
    "\n",
    "# requirements.txt\n",
    "# Flask==2.3.2\n",
    "# openai==1.61.1\n",
    "# dotenv=1.0.1\n",
    "\n",
    "# 앱 배포 파일\n",
    "# app.py\n",
    "# requirements.txt\n",
    "# templates \n",
    "#     |__ index.html"
   ]
  },
  {
   "cell_type": "code",
   "execution_count": 3,
   "id": "6edeffd9-100e-4425-b9f3-e540a0477445",
   "metadata": {},
   "outputs": [],
   "source": [
    "# Flask 버전\n",
    "# import flask\n",
    "# flask.__version__  # 3.0.3  "
   ]
  },
  {
   "cell_type": "code",
   "execution_count": 4,
   "id": "2d539a3b-a631-46c5-81f9-81b3b2389b63",
   "metadata": {},
   "outputs": [],
   "source": [
    "# 파이썬 버전\n",
    "# import sys\n",
    "# sys.version  # 3.12.7"
   ]
  },
  {
   "cell_type": "code",
   "execution_count": 5,
   "id": "ed003996-e114-408e-b17a-f842bad4e8a6",
   "metadata": {},
   "outputs": [],
   "source": [
    "# OpenAI API 버전\n",
    "# import openai\n",
    "# openai.__version__  # '1.61.1'"
   ]
  },
  {
   "cell_type": "code",
   "execution_count": 6,
   "id": "13284c09-9de2-465d-aa67-6d7cdd9c28b6",
   "metadata": {},
   "outputs": [],
   "source": [
    "# import dotenv\n",
    "# dotenv.__version__\n",
    "# !pip show python-dotenv"
   ]
  },
  {
   "cell_type": "code",
   "execution_count": 1,
   "id": "a99d23ad-dc7a-4c98-bec8-245e07d0080b",
   "metadata": {},
   "outputs": [],
   "source": [
    "from flask import Flask,render_template,request,jsonify\n",
    "from openai import OpenAI\n",
    "from dotenv import load_dotenv\n",
    "import os\n",
    "\n",
    "# .env 파일의 내용 불러오기\n",
    "load_dotenv(\"C:/env/.env\")\n",
    "API_KEY = os.getenv(\"OPENAI_API_KEY\")\n",
    "\n",
    "# Flask APP 생성\n",
    "app = Flask(__name__)\n",
    "\n",
    "# OpenAI API 요청 client 객체 생성\n",
    "client = OpenAI(api_key=API_KEY) "
   ]
  },
  {
   "cell_type": "code",
   "execution_count": 8,
   "id": "471a7842-3d63-482e-9fb0-3ba978ee7568",
   "metadata": {},
   "outputs": [
    {
     "name": "stdout",
     "output_type": "stream",
     "text": [
      " * Serving Flask app '__main__'\n",
      " * Debug mode: off\n"
     ]
    },
    {
     "name": "stderr",
     "output_type": "stream",
     "text": [
      "WARNING: This is a development server. Do not use it in a production deployment. Use a production WSGI server instead.\n",
      " * Running on http://127.0.0.1:5000\n",
      "Press CTRL+C to quit\n",
      "127.0.0.1 - - [11/Feb/2025 15:24:38] \"GET / HTTP/1.1\" 200 -\n",
      "127.0.0.1 - - [11/Feb/2025 15:24:46] \"POST /get_response HTTP/1.1\" 200 -\n",
      "127.0.0.1 - - [11/Feb/2025 15:26:40] \"POST /get_response HTTP/1.1\" 200 -\n",
      "127.0.0.1 - - [11/Feb/2025 15:27:28] \"POST /get_response HTTP/1.1\" 200 -\n",
      "127.0.0.1 - - [11/Feb/2025 15:29:45] \"POST /get_response HTTP/1.1\" 200 -\n",
      "127.0.0.1 - - [11/Feb/2025 15:45:13] \"POST /get_response HTTP/1.1\" 200 -\n"
     ]
    }
   ],
   "source": [
    "@app.route(\"/\")\n",
    "def home():\n",
    "    return render_template(\"index.html\")\n",
    "\n",
    "@app.route(\"/get_response\", methods=[\"POST\"])\n",
    "def get_response():\n",
    "    user_message = request.json.get(\"message\")\n",
    "    \n",
    "    # OpenAI 모델에 요청\n",
    "    response = client.chat.completions.create(\n",
    "        model=\"gpt-4o-mini\",\n",
    "        messages=[ {\"role\": \"user\", \"content\": user_message}],\n",
    "        max_tokens=300,\n",
    "        n=1,\n",
    "        stop=None,\n",
    "        temperature=0.7,\n",
    "    )\n",
    "\n",
    "    bot_response = response.choices[0].message.content\n",
    "    return jsonify({\"response\": bot_response})\n",
    "\n",
    "if __name__ == \"__main__\":\n",
    "    app.run(debug=False)"
   ]
  },
  {
   "cell_type": "markdown",
   "id": "a822ca33-eafc-43f2-8d43-b896bba56988",
   "metadata": {},
   "source": [
    "### 질문한 내용을 Context로 계속 유지하면서 질문하기"
   ]
  },
  {
   "cell_type": "code",
   "execution_count": null,
   "id": "eebaf859-9467-467d-b4d5-4459414ec44f",
   "metadata": {},
   "outputs": [
    {
     "name": "stdout",
     "output_type": "stream",
     "text": [
      " * Serving Flask app '__main__'\n",
      " * Debug mode: off\n"
     ]
    },
    {
     "name": "stderr",
     "output_type": "stream",
     "text": [
      "WARNING: This is a development server. Do not use it in a production deployment. Use a production WSGI server instead.\n",
      " * Running on http://127.0.0.1:5000\n",
      "Press CTRL+C to quit\n",
      "127.0.0.1 - - [11/Feb/2025 15:59:12] \"GET / HTTP/1.1\" 200 -\n"
     ]
    },
    {
     "name": "stdout",
     "output_type": "stream",
     "text": [
      "[{'role': 'user', 'content': '하늘이 파란 이유는?'}]\n"
     ]
    },
    {
     "name": "stderr",
     "output_type": "stream",
     "text": [
      "127.0.0.1 - - [11/Feb/2025 15:59:32] \"POST /get_response HTTP/1.1\" 200 -\n"
     ]
    },
    {
     "name": "stdout",
     "output_type": "stream",
     "text": [
      "[{'role': 'user', 'content': '하늘이 파란 이유는?'}, {'role': 'user', 'content': '노란 이유는?'}]\n"
     ]
    },
    {
     "name": "stderr",
     "output_type": "stream",
     "text": [
      "127.0.0.1 - - [11/Feb/2025 15:59:51] \"POST /get_response HTTP/1.1\" 200 -\n"
     ]
    },
    {
     "name": "stdout",
     "output_type": "stream",
     "text": [
      "[{'role': 'user', 'content': '하늘이 파란 이유는?'}, {'role': 'user', 'content': '노란 이유는?'}, {'role': 'user', 'content': '빨간경우는?'}]\n"
     ]
    },
    {
     "name": "stderr",
     "output_type": "stream",
     "text": [
      "127.0.0.1 - - [11/Feb/2025 16:00:41] \"POST /get_response HTTP/1.1\" 200 -\n"
     ]
    },
    {
     "name": "stdout",
     "output_type": "stream",
     "text": [
      "[{'role': 'user', 'content': '하늘이 파란 이유는?'}, {'role': 'user', 'content': '노란 이유는?'}, {'role': 'user', 'content': '빨간경우는?'}, {'role': 'user', 'content': '어두운이유?'}]\n"
     ]
    },
    {
     "name": "stderr",
     "output_type": "stream",
     "text": [
      "127.0.0.1 - - [11/Feb/2025 16:01:08] \"POST /get_response HTTP/1.1\" 200 -\n"
     ]
    },
    {
     "name": "stdout",
     "output_type": "stream",
     "text": [
      "[{'role': 'user', 'content': '하늘이 파란 이유는?'}, {'role': 'user', 'content': '노란 이유는?'}, {'role': 'user', 'content': '빨간경우는?'}, {'role': 'user', 'content': '어두운이유?'}, {'role': 'user', 'content': 'hello?'}]\n"
     ]
    },
    {
     "name": "stderr",
     "output_type": "stream",
     "text": [
      "127.0.0.1 - - [11/Feb/2025 16:01:48] \"POST /get_response HTTP/1.1\" 200 -\n"
     ]
    },
    {
     "name": "stdout",
     "output_type": "stream",
     "text": [
      "[{'role': 'user', 'content': '하늘이 파란 이유는?'}, {'role': 'user', 'content': '노란 이유는?'}, {'role': 'user', 'content': '빨간경우는?'}, {'role': 'user', 'content': '어두운이유?'}, {'role': 'user', 'content': 'hello?'}, {'role': 'user', 'content': '노란 이유는?'}]\n"
     ]
    },
    {
     "name": "stderr",
     "output_type": "stream",
     "text": [
      "127.0.0.1 - - [11/Feb/2025 16:02:18] \"POST /get_response HTTP/1.1\" 200 -\n"
     ]
    },
    {
     "name": "stdout",
     "output_type": "stream",
     "text": [
      "[{'role': 'user', 'content': '하늘이 파란 이유는?'}, {'role': 'user', 'content': '노란 이유는?'}, {'role': 'user', 'content': '빨간경우는?'}, {'role': 'user', 'content': '어두운이유?'}, {'role': 'user', 'content': 'hello?'}, {'role': 'user', 'content': '노란 이유는?'}, {'role': 'user', 'content': '하늘이 파란이유는? hello?'}]\n"
     ]
    },
    {
     "name": "stderr",
     "output_type": "stream",
     "text": [
      "127.0.0.1 - - [11/Feb/2025 16:02:54] \"POST /get_response HTTP/1.1\" 200 -\n"
     ]
    },
    {
     "name": "stdout",
     "output_type": "stream",
     "text": [
      "[{'role': 'user', 'content': '하늘이 파란 이유는?'}, {'role': 'user', 'content': '노란 이유는?'}, {'role': 'user', 'content': '빨간경우는?'}, {'role': 'user', 'content': '어두운이유?'}, {'role': 'user', 'content': 'hello?'}, {'role': 'user', 'content': '노란 이유는?'}, {'role': 'user', 'content': '하늘이 파란이유는? hello?'}, {'role': 'user', 'content': 'hello?'}]\n"
     ]
    },
    {
     "name": "stderr",
     "output_type": "stream",
     "text": [
      "127.0.0.1 - - [11/Feb/2025 16:03:25] \"POST /get_response HTTP/1.1\" 200 -\n"
     ]
    },
    {
     "name": "stdout",
     "output_type": "stream",
     "text": [
      "[{'role': 'user', 'content': '하늘이 파란 이유는?'}, {'role': 'user', 'content': '노란 이유는?'}, {'role': 'user', 'content': '빨간경우는?'}, {'role': 'user', 'content': '어두운이유?'}, {'role': 'user', 'content': 'hello?'}, {'role': 'user', 'content': '노란 이유는?'}, {'role': 'user', 'content': '하늘이 파란이유는? hello?'}, {'role': 'user', 'content': 'hello?'}, {'role': 'user', 'content': '철수에게는 사과가 10개 있었습니다 그저께 부터 오늘까지 매일 아침에 2개씩 먹었습니다 오늘 점심에 어머니께서 사과 5개를 더 사다 주셨습니다 오늘 저녁에 친구에게 2개를 주었습니다 철수는 총 몇 개의 사과를 가지고 있을까요?'}]\n"
     ]
    },
    {
     "name": "stderr",
     "output_type": "stream",
     "text": [
      "127.0.0.1 - - [11/Feb/2025 16:10:36] \"POST /get_response HTTP/1.1\" 200 -\n"
     ]
    },
    {
     "name": "stdout",
     "output_type": "stream",
     "text": [
      "[{'role': 'user', 'content': '하늘이 파란 이유는?'}, {'role': 'user', 'content': '노란 이유는?'}, {'role': 'user', 'content': '빨간경우는?'}, {'role': 'user', 'content': '어두운이유?'}, {'role': 'user', 'content': 'hello?'}, {'role': 'user', 'content': '노란 이유는?'}, {'role': 'user', 'content': '하늘이 파란이유는? hello?'}, {'role': 'user', 'content': 'hello?'}, {'role': 'user', 'content': '철수에게는 사과가 10개 있었습니다 그저께 부터 오늘까지 매일 아침에 2개씩 먹었습니다 오늘 점심에 어머니께서 사과 5개를 더 사다 주셨습니다 오늘 저녁에 친구에게 2개를 주었습니다 철수는 총 몇 개의 사과를 가지고 있을까요?'}, {'role': 'user', 'content': \"4명의 생존자가 강을 건너야 합니다. 각 생존자가 강을 건너는 데 걸리는 시간은 각각 다릅니다: 3분, 4분, 7분, 12분. 이들은 한 번에 최대 두 명씩만 함께 배를 타고 강을 건널 수 있으며, 배에는 반드시 등불을 지참해야 합니다.  그러나 등불은 하나뿐이어서, 생존자들이 강을 건널 때마다 등불을 반드시 함께 가져가야 합니다.  모든 생존자가 가장 효율적으로 강을 건너려면 어떻게 해야 할까요?  마지막으로 총 소요 시간을 '정답: <정답>분' 형식으로 답변하세요.\"}]\n"
     ]
    },
    {
     "name": "stderr",
     "output_type": "stream",
     "text": [
      "127.0.0.1 - - [11/Feb/2025 16:11:05] \"POST /get_response HTTP/1.1\" 200 -\n"
     ]
    }
   ],
   "source": [
    "# 소스 코드를 이어서 실행할 경우 오류나므로 \"Restart Kernel\"을 수행하고 실행한다\n",
    "@app.route(\"/\")\n",
    "def home():\n",
    "    return render_template(\"index.html\")\n",
    "\n",
    "# 대화 히스토리를 저장할 변수\n",
    "conversation_history = []\n",
    "\n",
    "@app.route(\"/get_response\", methods=[\"POST\"])\n",
    "def get_response():\n",
    "    user_message = request.json.get(\"message\")\n",
    "    conversation_history.append({\"role\": \"user\", \"content\": user_message})\n",
    "    print(conversation_history)\n",
    "                                \n",
    "    # OpenAI 모델에 요청\n",
    "    response = client.chat.completions.create(\n",
    "        model=\"gpt-4o-mini\",\n",
    "        messages=conversation_history,\n",
    "        # max_tokens=300,\n",
    "        n=1,\n",
    "        stop=None,\n",
    "        temperature=0.2,\n",
    "    )\n",
    "\n",
    "    bot_response = response.choices[0].message.content\n",
    "    return jsonify({\"response\": bot_response})\n",
    "\n",
    "if __name__ == \"__main__\":\n",
    "    app.run(debug=False)\n"
   ]
  },
  {
   "cell_type": "code",
   "execution_count": null,
   "id": "6dd4dfe2-6db7-4491-baa9-0bca685ca43c",
   "metadata": {},
   "outputs": [],
   "source": []
  }
 ],
 "metadata": {
  "kernelspec": {
   "display_name": "Python [conda env:base] *",
   "language": "python",
   "name": "conda-base-py"
  },
  "language_info": {
   "codemirror_mode": {
    "name": "ipython",
    "version": 3
   },
   "file_extension": ".py",
   "mimetype": "text/x-python",
   "name": "python",
   "nbconvert_exporter": "python",
   "pygments_lexer": "ipython3",
   "version": "3.12.7"
  }
 },
 "nbformat": 4,
 "nbformat_minor": 5
}
