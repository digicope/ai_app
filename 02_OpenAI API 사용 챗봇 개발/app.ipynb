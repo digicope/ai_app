{
 "cells": [
  {
   "cell_type": "markdown",
   "id": "e61cba76-1307-4ea1-a0d2-0f437896aaa6",
   "metadata": {},
   "source": [
    "# OpenAI API 사용 고객 서비스 챗봇 만들기"
   ]
  },
  {
   "cell_type": "code",
   "execution_count": 2,
   "id": "9d9e4183-6cb3-4cd6-84bb-4bd9b8cfc78c",
   "metadata": {},
   "outputs": [],
   "source": [
    "# 터미널에서 실행시\n",
    "# python -m venv venv\n",
    "# source venv/bin/activate  # 윈도우는 venv\\Scripts\\activate\n",
    "# pip install -r requirements.txt\n",
    "# python app.py\n",
    "\n",
    "# requirements.txt\n",
    "# Flask==2.3.2\n",
    "# openai==1.61.1\n",
    "# dotenv=1.0.1\n",
    "\n",
    "# 앱 배포 파일\n",
    "# app.py\n",
    "# requirements.txt\n",
    "# templates \n",
    "#     |__ index.html"
   ]
  },
  {
   "cell_type": "code",
   "execution_count": 3,
   "id": "6edeffd9-100e-4425-b9f3-e540a0477445",
   "metadata": {},
   "outputs": [],
   "source": [
    "# Flask 버전\n",
    "# import flask\n",
    "# flask.__version__  # 3.0.3  "
   ]
  },
  {
   "cell_type": "code",
   "execution_count": 4,
   "id": "2d539a3b-a631-46c5-81f9-81b3b2389b63",
   "metadata": {},
   "outputs": [],
   "source": [
    "# 파이썬 버전\n",
    "# import sys\n",
    "# sys.version  # 3.12.7"
   ]
  },
  {
   "cell_type": "code",
   "execution_count": 5,
   "id": "ed003996-e114-408e-b17a-f842bad4e8a6",
   "metadata": {},
   "outputs": [],
   "source": [
    "# OpenAI API 버전\n",
    "# import openai\n",
    "# openai.__version__  # '1.61.1'"
   ]
  },
  {
   "cell_type": "code",
   "execution_count": 6,
   "id": "13284c09-9de2-465d-aa67-6d7cdd9c28b6",
   "metadata": {},
   "outputs": [],
   "source": [
    "# import dotenv\n",
    "# dotenv.__version__\n",
    "# !pip show python-dotenv"
   ]
  },
  {
   "cell_type": "code",
   "execution_count": 7,
   "id": "a99d23ad-dc7a-4c98-bec8-245e07d0080b",
   "metadata": {},
   "outputs": [],
   "source": [
    "from flask import Flask,render_template,request,jsonify\n",
    "from openai import OpenAI\n",
    "from dotenv import load_dotenv\n",
    "import os\n",
    "\n",
    "# .env 파일의 내용 불러오기\n",
    "load_dotenv(\"C:/env/.env\")\n",
    "API_KEY = os.getenv(\"OPENAI_API_KEY\")\n",
    "\n",
    "# Flask APP 생성\n",
    "app = Flask(__name__)\n",
    "\n",
    "# OpenAI API 요청 client 객체 생성\n",
    "client = OpenAI(api_key=API_KEY) "
   ]
  },
  {
   "cell_type": "code",
   "execution_count": null,
   "id": "471a7842-3d63-482e-9fb0-3ba978ee7568",
   "metadata": {},
   "outputs": [
    {
     "name": "stdout",
     "output_type": "stream",
     "text": [
      " * Serving Flask app '__main__'\n",
      " * Debug mode: off\n"
     ]
    },
    {
     "name": "stderr",
     "output_type": "stream",
     "text": [
      "WARNING: This is a development server. Do not use it in a production deployment. Use a production WSGI server instead.\n",
      " * Running on http://127.0.0.1:5000\n",
      "Press CTRL+C to quit\n",
      "127.0.0.1 - - [11/Feb/2025 15:24:38] \"GET / HTTP/1.1\" 200 -\n",
      "127.0.0.1 - - [11/Feb/2025 15:24:46] \"POST /get_response HTTP/1.1\" 200 -\n",
      "127.0.0.1 - - [11/Feb/2025 15:26:40] \"POST /get_response HTTP/1.1\" 200 -\n",
      "127.0.0.1 - - [11/Feb/2025 15:27:28] \"POST /get_response HTTP/1.1\" 200 -\n"
     ]
    }
   ],
   "source": [
    "@app.route(\"/\")\n",
    "def home():\n",
    "    return render_template(\"index.html\")\n",
    "\n",
    "@app.route(\"/get_response\", methods=[\"POST\"])\n",
    "def get_response():\n",
    "    user_message = request.json.get(\"message\")\n",
    "    \n",
    "    # OpenAI 모델에 요청\n",
    "    response = client.chat.completions.create(\n",
    "        model=\"gpt-4o-mini\",\n",
    "        messages=[ {\"role\": \"user\", \"content\": user_message}],\n",
    "        max_tokens=300,\n",
    "        n=1,\n",
    "        stop=None,\n",
    "        temperature=0.7,\n",
    "    )\n",
    "\n",
    "    bot_response = response.choices[0].message.content\n",
    "    return jsonify({\"response\": bot_response})\n",
    "\n",
    "if __name__ == \"__main__\":\n",
    "    app.run(debug=False)"
   ]
  },
  {
   "cell_type": "code",
   "execution_count": null,
   "id": "012bf579-958c-42fa-8a05-98eb2f4c2ad0",
   "metadata": {},
   "outputs": [],
   "source": []
  },
  {
   "cell_type": "code",
   "execution_count": null,
   "id": "eebaf859-9467-467d-b4d5-4459414ec44f",
   "metadata": {},
   "outputs": [],
   "source": []
  }
 ],
 "metadata": {
  "kernelspec": {
   "display_name": "Python [conda env:base] *",
   "language": "python",
   "name": "conda-base-py"
  },
  "language_info": {
   "codemirror_mode": {
    "name": "ipython",
    "version": 3
   },
   "file_extension": ".py",
   "mimetype": "text/x-python",
   "name": "python",
   "nbconvert_exporter": "python",
   "pygments_lexer": "ipython3",
   "version": "3.12.7"
  }
 },
 "nbformat": 4,
 "nbformat_minor": 5
}
